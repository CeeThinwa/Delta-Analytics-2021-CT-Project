{
 "cells": [
  {
   "cell_type": "markdown",
   "id": "continuous-affect",
   "metadata": {},
   "source": [
    "# Exploratory Data Analysis for the Delta Analytics Teaching Fellowship\n",
    "\n",
    "**Author:** *Cynthia Thinwa*\n",
    "\n",
    "## INTRODUCTION\n",
    "\n",
    "### DATA HANDLING PRACTICES:\n",
    "\n",
    "* Based on Twitter API best practice, the actual data will not be shared, only Twitter's tweet IDs for future reference\n",
    "* The data will be cleaned to remove personally identifiable information like emails and phone numbers\n",
    "* Exploratory Data Analysis will be described here purely for the basis of describing how the dataset was aggregated in order to be fed into the ML model\n",
    "\n",
    "Data collection was done from a Microsoft command line running\n",
    "\n",
    "`twint -s %23kot --since \"2020-06-01 03:00:00\" --until \"2021-06-01 03:00:00\" -o kotdata.csv --csv`\n",
    "\n",
    "## EXPLORATORY DATA ANALYSIS\n",
    "\n",
    "### Introduction\n",
    "\n",
    "The raw data was loaded as follows, with the following characteristics:\n",
    "\n",
    "1. The number of tweets:"
   ]
  },
  {
   "cell_type": "code",
   "execution_count": 1,
   "id": "published-demographic",
   "metadata": {},
   "outputs": [],
   "source": [
    "import numpy as np\n",
    "import pandas as pd\n",
    "import os\n",
    "import json"
   ]
  },
  {
   "cell_type": "code",
   "execution_count": 2,
   "id": "documentary-horizontal",
   "metadata": {},
   "outputs": [
    {
     "name": "stderr",
     "output_type": "stream",
     "text": [
      "c:\\users\\ct\\appdata\\local\\programs\\python\\python39\\lib\\site-packages\\rpy2\\robjects\\packages.py:366: UserWarning: The symbol 'quartz' is not in this R namespace/package.\n",
      "  warnings.warn(\n"
     ]
    }
   ],
   "source": [
    "%load_ext rpy2.ipython"
   ]
  },
  {
   "cell_type": "code",
   "execution_count": 3,
   "id": "acting-tongue",
   "metadata": {},
   "outputs": [
    {
     "name": "stderr",
     "output_type": "stream",
     "text": [
      "R[write to console]: \n",
      "Attaching package: 'dplyr'\n",
      "\n",
      "\n",
      "R[write to console]: The following objects are masked from 'package:stats':\n",
      "\n",
      "    filter, lag\n",
      "\n",
      "\n",
      "R[write to console]: The following objects are masked from 'package:base':\n",
      "\n",
      "    intersect, setdiff, setequal, union\n",
      "\n",
      "\n",
      "R[write to console]: Loading required package: RColorBrewer\n",
      "\n"
     ]
    }
   ],
   "source": [
    "%%R\n",
    "\n",
    "library(dplyr)\n",
    "library(wordcloud)\n",
    "library(RColorBrewer)\n",
    "library(rtweet)\n",
    "library(tidytext)\n",
    "library(ggplot2)\n",
    "library(wordcloud2)"
   ]
  },
  {
   "cell_type": "code",
   "execution_count": 4,
   "id": "white-directory",
   "metadata": {},
   "outputs": [
    {
     "name": "stdout",
     "output_type": "stream",
     "text": [
      "[1] 36305\n"
     ]
    }
   ],
   "source": [
    "%%R\n",
    "\n",
    "url <- \"C:/storage/Personal drive backup/Career/Post-Masters/Delta Analytics Teaching Fellowship/EDA/2.kotdata.csv\"\n",
    "DATFdata <- read.delim(url)\n",
    "dim(DATFdata)[1]"
   ]
  },
  {
   "cell_type": "markdown",
   "id": "weekly-recycling",
   "metadata": {},
   "source": [
    "\n",
    "2. The number of unique conversations had:\n"
   ]
  },
  {
   "cell_type": "code",
   "execution_count": 5,
   "id": "pacific-basic",
   "metadata": {},
   "outputs": [
    {
     "name": "stdout",
     "output_type": "stream",
     "text": [
      "[1] 35388\n"
     ]
    }
   ],
   "source": [
    "%%R\n",
    "\n",
    "DATFdata$conversation_id <- factor(DATFdata$conversation_id)\n",
    "DATFdata$id <- factor(DATFdata$id)\n",
    "\n",
    "dim(as.data.frame(table(DATFdata$conversation_id)))[1]"
   ]
  },
  {
   "cell_type": "markdown",
   "id": "discrete-volume",
   "metadata": {},
   "source": [
    "\n",
    "3. The number of unique users speaking:\n"
   ]
  },
  {
   "cell_type": "code",
   "execution_count": 6,
   "id": "subtle-skill",
   "metadata": {},
   "outputs": [
    {
     "name": "stdout",
     "output_type": "stream",
     "text": [
      "[1] 11049\n"
     ]
    }
   ],
   "source": [
    "%%R\n",
    "\n",
    "DATFdata$user_id <- factor(DATFdata$user_id)\n",
    "\n",
    "dim(as.data.frame(table(DATFdata$user_id)))[1]"
   ]
  },
  {
   "cell_type": "markdown",
   "id": "hindu-cassette",
   "metadata": {},
   "source": [
    "\n",
    "4. The most frequent language of posting:\n"
   ]
  },
  {
   "cell_type": "code",
   "execution_count": 7,
   "id": "printable-mileage",
   "metadata": {},
   "outputs": [
    {
     "name": "stdout",
     "output_type": "stream",
     "text": [
      "  Language Frequency\n",
      "8       en     27504\n"
     ]
    }
   ],
   "source": [
    "%%R\n",
    "\n",
    "lang <- as.data.frame(table(DATFdata$language))\n",
    "colnames(lang) <- c('Language','Frequency')\n",
    "head(lang[order(lang$Freq, decreasing = TRUE),],n=1)"
   ]
  },
  {
   "cell_type": "markdown",
   "id": "funky-biography",
   "metadata": {},
   "source": [
    "\n",
    "5. The date on which most tweets were posted (tweets were from 1st June 2020 UTC+3 upto 1st June 2021 UTC+3): \n"
   ]
  },
  {
   "cell_type": "code",
   "execution_count": 8,
   "id": "convertible-blade",
   "metadata": {},
   "outputs": [
    {
     "name": "stdout",
     "output_type": "stream",
     "text": [
      "          Date Frequency\n",
      "262 2021-02-17       406\n"
     ]
    }
   ],
   "source": [
    "%%R\n",
    "\n",
    "dates <- as.data.frame(table(DATFdata$date))\n",
    "colnames(dates) <- c('Date','Frequency')\n",
    "head(dates[order(dates$Freq, decreasing = TRUE),],n=1)"
   ]
  },
  {
   "cell_type": "markdown",
   "id": "conscious-humidity",
   "metadata": {},
   "source": [
    "\n",
    "### Text transformation\n",
    "\n",
    "Text cleaning was as follows, using `eng_tweets$tweet[4]` as an example:\n"
   ]
  },
  {
   "cell_type": "code",
   "execution_count": 9,
   "id": "casual-bikini",
   "metadata": {},
   "outputs": [
    {
     "name": "stdout",
     "output_type": "stream",
     "text": [
      "[1]\n"
     ]
    },
    {
     "name": "stderr",
     "output_type": "stream",
     "text": [
      "From cffi callback <function _consolewrite_ex at 0x0000017B59DA7280>:\n",
      "Traceback (most recent call last):\n",
      "  File \"c:\\users\\ct\\appdata\\local\\programs\\python\\python39\\lib\\site-packages\\rpy2\\rinterface_lib\\callbacks.py\", line 132, in _consolewrite_ex\n",
      "    s = conversion._cchar_to_str_with_maxlen(buf, n, _CCHAR_ENCODING)\n",
      "  File \"c:\\users\\ct\\appdata\\local\\programs\\python\\python39\\lib\\site-packages\\rpy2\\rinterface_lib\\conversion.py\", line 133, in _cchar_to_str_with_maxlen\n",
      "    s = ffi.string(c, maxlen).decode(encoding)\n",
      "UnicodeDecodeError: 'utf-8' codec can't decode byte 0xe2 in position 292: invalid continuation byte\n"
     ]
    },
    {
     "name": "stdout",
     "output_type": "stream",
     "text": [
      "[1] \"@ManUnitedZone_ Made in the streets of mathare,Nairobi,kenya . He was nicknamed Kenyan Messi.Pride of kenya .Friends to @LasetoAbdaz @babazubeyyr @VictorWanyama #KOT.I insist,The First Kenyan to play for Manchester United .you'll land in trouble for misinforming the masses \"\n",
      "[1] \"@ManUnitedZone_ Made in the streets of mathare,Nairobi,kenya . He was nicknamed Kenyan Messi.Pride of kenya .Friends to @LasetoAbdaz @babazubeyyr @VictorWanyama #KOT.I insist,The First Kenyan to play for Manchester United .you'll land in trouble for misinforming the masses \"\n",
      "[1] \"@ManUnitedZone_ Made in the streets of mathare,Nairobi,kenya . He was nicknamed Kenyan Messi.Pride of kenya .Friends to @LasetoAbdaz @babazubeyyr @VictorWanyama #KOT.I insist,The First Kenyan to play for Manchester United .you'll land in trouble for misinforming the masses \"\n",
      "[1] \" Made in the streets of mathare,Nairobi,kenya . He was nicknamed Kenyan Messi.Pride of kenya .Friends to    #KOT.I insist,The First Kenyan to play for Manchester United .you'll land in trouble for misinforming the masses \"\n",
      "[1] \" Made in the streets of mathare,Nairobi,kenya . He was nicknamed Kenyan Messi.Pride of kenya .Friends to     insist,The First Kenyan to play for Manchester United .you'll land in trouble for misinforming the masses \"\n",
      "[1] \" Made in the streets of mathare,Nairobi,kenya . He was nicknamed Kenyan Messi.Pride of kenya .Friends to     insist,The First Kenyan to play for Manchester United .you'll land in trouble for misinforming the masses \"\n",
      "[1] \" Made in the streets of mathare,Nairobi,kenya . He was nicknamed Kenyan Messi.Pride of kenya .Friends to     insist,The First Kenyan to play for Manchester United .youll land in trouble for misinforming the masses \"\n",
      "[1] \" Made in the streets of mathare Nairobi kenya   He was nicknamed Kenyan Messi Pride of kenya  Friends to     insist The First Kenyan to play for Manchester United  youll land in trouble for misinforming the masses \"\n",
      "[1] \" Made in the streets of mathare Nairobi kenya   He was nicknamed Kenyan Messi Pride of kenya  Friends to     insist The First Kenyan to play for Manchester United  youll land in trouble for misinforming the masses \"\n",
      "[1] \" made in the streets of mathare nairobi kenya   he was nicknamed kenyan messi pride of kenya  friends to     insist the first kenyan to play for manchester united  youll land in trouble for misinforming the masses \"\n"
     ]
    }
   ],
   "source": [
    "%%R\n",
    "\n",
    "# Get organic tweets first; found that all tweets were organic!\n",
    "\n",
    "# get only English ones:\n",
    "eng_tweets <- DATFdata[DATFdata$language=='en',]; print(eng_tweets$tweet[4])\n",
    "\n",
    "# Remove funny symbols\n",
    "eng_tweets$tweet <- iconv(eng_tweets$tweet, from = 'UTF-8', to = 'ISO-8859-1', sub = ''); print(eng_tweets$tweet[4])\n",
    "\n",
    "eng_tweets$tweet <- iconv(eng_tweets$tweet, from = 'ISO-8859-1', to = 'UTF-8', sub = ''); print(eng_tweets$tweet[4])\n",
    "\n",
    "eng_tweets$tweet <- gsub(\"https\\\\S*\", \"\", eng_tweets$tweet); print(eng_tweets$tweet[4]) #remove urls\n",
    "\n",
    "eng_tweets$tweet <- gsub(\"@\\\\S*\", \"\", eng_tweets$tweet); print(eng_tweets$tweet[4]) #remove mentions\n",
    "\n",
    "eng_tweets$tweet <- gsub(\"#\\\\S*\", \"\", eng_tweets$tweet); print(eng_tweets$tweet[4]) #remove hashtags\n",
    "\n",
    "eng_tweets$tweet <- gsub(\"[\\r\\n]\", \" \", eng_tweets$tweet); print(eng_tweets$tweet[4]) #remove newline characters\n",
    "\n",
    "#(we have separate columns with the details)\n",
    "# Punctuation was managed as follows:\n",
    "eng_tweets$tweet <- gsub(\"'\", \"\", eng_tweets$tweet); print(eng_tweets$tweet[4])\n",
    "\n",
    "eng_tweets$tweet <- gsub(\"[[:punct:]]\", \" \", eng_tweets$tweet); print(eng_tweets$tweet[4])\n",
    "\n",
    "eng_tweets$tweet <- gsub(\"amp\", \"\", eng_tweets$tweet); print(eng_tweets$tweet[4]) # remove ampersands\n",
    "\n",
    "# Finally, everything was made lowercase\n",
    "eng_tweets$tweet <- tolower(eng_tweets$tweet); print(eng_tweets$tweet[4])"
   ]
  },
  {
   "cell_type": "code",
   "execution_count": 10,
   "id": "baking-parcel",
   "metadata": {},
   "outputs": [],
   "source": [
    "%%R\n",
    "\n",
    "# Tokenize words\n",
    "Words <- eng_tweets %>%\n",
    "  select(tweet) %>%\n",
    "  unnest_tokens(word, tweet)"
   ]
  },
  {
   "cell_type": "markdown",
   "id": "measured-distinction",
   "metadata": {},
   "source": [
    "\n",
    "### Word Frequency\n"
   ]
  },
  {
   "cell_type": "code",
   "execution_count": 11,
   "id": "impressive-ordering",
   "metadata": {},
   "outputs": [
    {
     "name": "stdout",
     "output_type": "stream",
     "text": [
      "Selecting by n\n"
     ]
    },
    {
     "data": {
      "image/png": "[encoded data removed]"
     },
     "metadata": {},
     "output_type": "display_data"
    }
   ],
   "source": [
    "%%R\n",
    "\n",
    "Words %>% # gives you a bar chart of the most frequent words found in the tweets\n",
    "  count(word, sort = TRUE) %>%\n",
    "  top_n(15) %>%\n",
    "  mutate(word = reorder(word, n)) %>%\n",
    "  ggplot(aes(x = word, y = n)) +\n",
    "  geom_col() +\n",
    "  xlab(NULL) +\n",
    "  coord_flip() +\n",
    "  labs(y = \"Count\",\n",
    "       x = \"Unique words\",\n",
    "       title = \"Most frequent words found in the #KOT tweets\")"
   ]
  },
  {
   "cell_type": "code",
   "execution_count": 12,
   "id": "simple-digit",
   "metadata": {},
   "outputs": [
    {
     "name": "stdout",
     "output_type": "stream",
     "text": [
      "Joining, by = \"word\"\n",
      "Selecting by n\n"
     ]
    },
    {
     "data": {
      "image/png": "[encoded data removed]"
     },
     "metadata": {},
     "output_type": "display_data"
    }
   ],
   "source": [
    "%%R\n",
    "\n",
    "# remove stop words\n",
    "Words <- Words %>%\n",
    "  anti_join(stop_words)\n",
    "\n",
    "Words %>% # gives you a bar chart of the most frequent words found in the tweets\n",
    "  count(word, sort = TRUE) %>%\n",
    "  top_n(15) %>%\n",
    "  mutate(word = reorder(word, n)) %>%\n",
    "  ggplot(aes(x = word, y = n)) +\n",
    "  geom_col() +\n",
    "  xlab(NULL) +\n",
    "  coord_flip() +\n",
    "  labs(y = \"Count\",\n",
    "       x = \"Unique words\",\n",
    "       title = \"Most frequent words found in the #KOT tweets\",\n",
    "       subtitle = \"Stop words removed from the list\")"
   ]
  },
  {
   "cell_type": "markdown",
   "id": "sapphire-smith",
   "metadata": {},
   "source": [
    "\n",
    "### Hashtag Frequency\n",
    "\n",
    "All tweets have the hashtag `#KOT`, but we are interested in what else this community talks about, so this hashtag will have to be removed from our visualization.\n"
   ]
  },
  {
   "cell_type": "code",
   "execution_count": 13,
   "id": "accurate-lancaster",
   "metadata": {},
   "outputs": [],
   "source": [
    "%%R\n",
    "\n",
    "eng_tweets$hashtags <- as.character(eng_tweets$hashtags)\n",
    "\n",
    "eng_tweets$hashtags <- gsub(\"[[:punct:]]\", \"\", eng_tweets$hashtags)\n",
    "\n",
    "# every hashtag was made lowercase\n",
    "eng_tweets$hashtags <- tolower(eng_tweets$hashtags)\n",
    "\n",
    "# and #KOT was removed before tokenization\n",
    "eng_tweets$hashtags <- gsub(\"kot\", \"\", eng_tweets$hashtags)\n",
    "\n",
    "Hashtags <- eng_tweets %>%\n",
    "  select(hashtags) %>%\n",
    "  unnest_tokens(word, hashtags)\n",
    "\n",
    "Hashtags_count <- as.data.frame(table(Hashtags$word))\n",
    "\n",
    "viz1 <- wordcloud2(Hashtags_count, size=0.7); viz1"
   ]
  },
  {
   "cell_type": "markdown",
   "id": "sharp-bones",
   "metadata": {},
   "source": [
    "\n",
    "### People of Influence\n",
    "\n",
    "In this area, we are interested in identifying people mentioned most frequently.\n",
    "\n",
    "The text, using `eng_tweets$mentions[4]` as an example was first converted as follows:\n"
   ]
  },
  {
   "cell_type": "code",
   "execution_count": 14,
   "id": "missing-documentary",
   "metadata": {},
   "outputs": [
    {
     "name": "stdout",
     "output_type": "stream",
     "text": [
      "[1] 6887    1\n"
     ]
    }
   ],
   "source": [
    "%%R\n",
    "\n",
    "eng_tweets$mentions[4]\n",
    "# Remove funny symbols\n",
    "eng_tweets$mentions <- iconv(eng_tweets$mentions, from = 'UTF-8', to = 'UTF-8');eng_tweets$mentions[4]\n",
    "\n",
    "eng_tweets$mentions <- stringr::str_replace_all(\n",
    "  eng_tweets$mentions, \"\\'\", \"\\\"\")\n",
    "eng_tweets$mentions <- gsub(\"[\", \"\", eng_tweets$mentions, fixed = TRUE)\n",
    "eng_tweets$mentions <- gsub(\"]\", \"\", eng_tweets$mentions, fixed = TRUE)\n",
    "\n",
    "df <- as.data.frame(eng_tweets$mentions); dim(df)\n",
    "df[df == \"\"] <- NA  \n",
    "df <- na.omit(df); dim(df)\n"
   ]
  },
  {
   "cell_type": "code",
   "execution_count": 15,
   "id": "paperback-intersection",
   "metadata": {},
   "outputs": [
    {
     "data": {
      "text/plain": [
       "'C:\\\\Users\\\\CT\\\\Documents\\\\GitHub\\\\Delta-Analytics-2021-CT-Project'"
      ]
     },
     "execution_count": 15,
     "metadata": {},
     "output_type": "execute_result"
    }
   ],
   "source": [
    "#get file location\n",
    "os.getcwd()"
   ]
  },
  {
   "cell_type": "code",
   "execution_count": 16,
   "id": "stupid-cookbook",
   "metadata": {},
   "outputs": [],
   "source": [
    "%%R\n",
    "\n",
    "write.csv(df$`eng_tweets$mentions`,'C:/Users/CT/Documents/GitHub/Delta-Analytics-2021-CT-Project/dicts.csv')"
   ]
  },
  {
   "cell_type": "code",
   "execution_count": 17,
   "id": "modular-freight",
   "metadata": {},
   "outputs": [
    {
     "data": {
      "text/html": [
       "<div>\n",
       "<style scoped>\n",
       "    .dataframe tbody tr th:only-of-type {\n",
       "        vertical-align: middle;\n",
       "    }\n",
       "\n",
       "    .dataframe tbody tr th {\n",
       "        vertical-align: top;\n",
       "    }\n",
       "\n",
       "    .dataframe thead th {\n",
       "        text-align: right;\n",
       "    }\n",
       "</style>\n",
       "<table border=\"1\" class=\"dataframe\">\n",
       "  <thead>\n",
       "    <tr style=\"text-align: right;\">\n",
       "      <th></th>\n",
       "      <th>Unnamed: 0</th>\n",
       "      <th>x</th>\n",
       "    </tr>\n",
       "  </thead>\n",
       "  <tbody>\n",
       "    <tr>\n",
       "      <th>0</th>\n",
       "      <td>1</td>\n",
       "      <td>{\"screen_name\": \"lasetoabdaz\", \"name\": \"abdaz\"...</td>\n",
       "    </tr>\n",
       "    <tr>\n",
       "      <th>1</th>\n",
       "      <td>2</td>\n",
       "      <td>{\"screen_name\": \"gracekuriake\", \"name\": \"grace...</td>\n",
       "    </tr>\n",
       "    <tr>\n",
       "      <th>2</th>\n",
       "      <td>3</td>\n",
       "      <td>{\"screen_name\": \"bravinyuri\", \"name\": \"bravin ...</td>\n",
       "    </tr>\n",
       "    <tr>\n",
       "      <th>3</th>\n",
       "      <td>4</td>\n",
       "      <td>{\"screen_name\": \"ukinkenya\", \"name\": \"uk in ke...</td>\n",
       "    </tr>\n",
       "    <tr>\n",
       "      <th>4</th>\n",
       "      <td>5</td>\n",
       "      <td>{\"screen_name\": \"shopmduka\", \"name\": \"mduka\", ...</td>\n",
       "    </tr>\n",
       "  </tbody>\n",
       "</table>\n",
       "</div>"
      ],
      "text/plain": [
       "   Unnamed: 0                                                  x\n",
       "0           1  {\"screen_name\": \"lasetoabdaz\", \"name\": \"abdaz\"...\n",
       "1           2  {\"screen_name\": \"gracekuriake\", \"name\": \"grace...\n",
       "2           3  {\"screen_name\": \"bravinyuri\", \"name\": \"bravin ...\n",
       "3           4  {\"screen_name\": \"ukinkenya\", \"name\": \"uk in ke...\n",
       "4           5  {\"screen_name\": \"shopmduka\", \"name\": \"mduka\", ..."
      ]
     },
     "execution_count": 17,
     "metadata": {},
     "output_type": "execute_result"
    }
   ],
   "source": [
    "dicts = pd.read_csv('dicts.csv')\n",
    "dicts.head(5)"
   ]
  },
  {
   "cell_type": "code",
   "execution_count": 18,
   "id": "elementary-consortium",
   "metadata": {},
   "outputs": [
    {
     "data": {
      "text/plain": [
       "(6887, 1)"
      ]
     },
     "execution_count": 18,
     "metadata": {},
     "output_type": "execute_result"
    }
   ],
   "source": [
    "# Delete the column\n",
    "dicts = dicts.drop(labels='Unnamed: 0', axis=1)\n",
    "dicts.shape"
   ]
  },
  {
   "cell_type": "code",
   "execution_count": 19,
   "id": "powerful-glucose",
   "metadata": {},
   "outputs": [
    {
     "data": {
      "text/html": [
       "<div>\n",
       "<style scoped>\n",
       "    .dataframe tbody tr th:only-of-type {\n",
       "        vertical-align: middle;\n",
       "    }\n",
       "\n",
       "    .dataframe tbody tr th {\n",
       "        vertical-align: top;\n",
       "    }\n",
       "\n",
       "    .dataframe thead th {\n",
       "        text-align: right;\n",
       "    }\n",
       "</style>\n",
       "<table border=\"1\" class=\"dataframe\">\n",
       "  <thead>\n",
       "    <tr style=\"text-align: right;\">\n",
       "      <th></th>\n",
       "      <th>x</th>\n",
       "    </tr>\n",
       "  </thead>\n",
       "  <tbody>\n",
       "    <tr>\n",
       "      <th>0</th>\n",
       "      <td>{\"screen_name\": \"lasetoabdaz\", \"name\": \"abdaz\"...</td>\n",
       "    </tr>\n",
       "    <tr>\n",
       "      <th>1</th>\n",
       "      <td>{\"screen_name\": \"gracekuriake\", \"name\": \"grace...</td>\n",
       "    </tr>\n",
       "    <tr>\n",
       "      <th>2</th>\n",
       "      <td>{\"screen_name\": \"bravinyuri\", \"name\": \"bravin ...</td>\n",
       "    </tr>\n",
       "    <tr>\n",
       "      <th>3</th>\n",
       "      <td>{\"screen_name\": \"ukinkenya\", \"name\": \"uk in ke...</td>\n",
       "    </tr>\n",
       "    <tr>\n",
       "      <th>4</th>\n",
       "      <td>{\"screen_name\": \"shopmduka\", \"name\": \"mduka\", ...</td>\n",
       "    </tr>\n",
       "  </tbody>\n",
       "</table>\n",
       "</div>"
      ],
      "text/plain": [
       "                                                   x\n",
       "0  {\"screen_name\": \"lasetoabdaz\", \"name\": \"abdaz\"...\n",
       "1  {\"screen_name\": \"gracekuriake\", \"name\": \"grace...\n",
       "2  {\"screen_name\": \"bravinyuri\", \"name\": \"bravin ...\n",
       "3  {\"screen_name\": \"ukinkenya\", \"name\": \"uk in ke...\n",
       "4  {\"screen_name\": \"shopmduka\", \"name\": \"mduka\", ..."
      ]
     },
     "execution_count": 19,
     "metadata": {},
     "output_type": "execute_result"
    }
   ],
   "source": [
    "dicts.head(5)"
   ]
  },
  {
   "cell_type": "code",
   "execution_count": 23,
   "id": "tough-interface",
   "metadata": {},
   "outputs": [
    {
     "name": "stdout",
     "output_type": "stream",
     "text": [
      "screen_name:lasetoabdaz,name:abdaz,id:502972112,screen_name:babazubeyyr,name:<U+0001F40E>,id:1379069357683322886,screen_name:victorwanyama,name:victorwanyama,id:327549892 \n",
      "\n",
      "screen_name:gracekuriake,name:gracekuria,id:2172617474\n"
     ]
    }
   ],
   "source": [
    "single_dicts_copy = dicts.copy()\n",
    "single_dicts_copy.iloc[:,0] = single_dicts_copy.iloc[:,0].str.replace('{','',regex=False)\n",
    "single_dicts_copy.iloc[:,0] = single_dicts_copy.iloc[:,0].str.replace('}','',regex=False)\n",
    "single_dicts_copy.iloc[:,0] = single_dicts_copy.iloc[:,0].str.replace(' ','',regex=False)\n",
    "single_dicts_copy.iloc[:,0] = single_dicts_copy.iloc[:,0].str.replace(\"\\\"\",'',regex=False)\n",
    "single_dicts_copy.columns = ['dictionary']\n",
    "print(single_dicts_copy.iloc[0,0],'\\n')\n",
    "print(single_dicts_copy.iloc[1,0])"
   ]
  },
  {
   "cell_type": "code",
   "execution_count": 21,
   "id": "tutorial-reach",
   "metadata": {},
   "outputs": [
    {
     "data": {
      "text/plain": [
       "['screen_name:lasetoabdaz',\n",
       " 'name:abdaz',\n",
       " 'id:502972112',\n",
       " 'screen_name:babazubeyyr',\n",
       " 'name:<U+0001F40E>',\n",
       " 'id:1379069357683322886',\n",
       " 'screen_name:victorwanyama',\n",
       " 'name:victorwanyama',\n",
       " 'id:327549892']"
      ]
     },
     "execution_count": 21,
     "metadata": {},
     "output_type": "execute_result"
    }
   ],
   "source": [
    "long_lst = list(single_dicts_copy.iloc[:,0].values)\n",
    "info = []\n",
    "i=0\n",
    "\n",
    "for i in range(len(single_dicts_copy.iloc[:,0])):\n",
    "    item = long_lst[i].split(\",\")\n",
    "    info.append(item)\n",
    "\n",
    "len(info)\n",
    "info[0]"
   ]
  },
  {
   "cell_type": "code",
   "execution_count": null,
   "id": "patent-tomorrow",
   "metadata": {},
   "outputs": [],
   "source": []
  }
 ],
 "metadata": {
  "kernelspec": {
   "display_name": "Python 3",
   "language": "python",
   "name": "python3"
  },
  "language_info": {
   "codemirror_mode": {
    "name": "ipython",
    "version": 3
   },
   "file_extension": ".py",
   "mimetype": "text/x-python",
   "name": "python",
   "nbconvert_exporter": "python",
   "pygments_lexer": "ipython3",
   "version": "3.9.0"
  }
 },
 "nbformat": 4,
 "nbformat_minor": 5
}

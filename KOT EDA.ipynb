{
 "cells": [
  {
   "cell_type": "markdown",
   "id": "behind-butler",
   "metadata": {},
   "source": [
    "# Exploratory Data Analysis for the Delta Analytics Teaching Fellowship\n",
    "\n",
    "**Author:** *Cynthia Thinwa*\n",
    "\n",
    "## INTRODUCTION\n",
    "\n",
    "### DATA HANDLING PRACTICES:\n",
    "\n",
    "* Based on Twitter API best practice, the actual data will not be shared, only Twitter's tweet IDs for future reference\n",
    "* The data will be cleaned to remove personally identifiable information like emails and phone numbers\n",
    "* Exploratory Data Analysis will be described here purely for the basis of describing how the dataset was aggregated in order to be fed into the ML model\n",
    "\n",
    "Data collection was done from a Microsoft command line running\n",
    "\n",
    "`twint -s %23kot --since \"2020-06-01 03:00:00\" --until \"2021-06-01 03:00:00\" -o kotdata.csv --csv`\n",
    "\n",
    "## EXPLORATORY DATA ANALYSIS\n",
    "\n",
    "### Introduction\n",
    "\n",
    "The raw data was loaded as follows, with the following characteristics:\n",
    "\n",
    "1. The number of tweets:"
   ]
  },
  {
   "cell_type": "code",
   "execution_count": 1,
   "id": "perfect-michigan",
   "metadata": {},
   "outputs": [],
   "source": [
    "import numpy as np\n",
    "import pandas as pd\n",
    "import os\n",
    "import json"
   ]
  },
  {
   "cell_type": "code",
   "execution_count": 2,
   "id": "featured-level",
   "metadata": {},
   "outputs": [
    {
     "name": "stderr",
     "output_type": "stream",
     "text": [
      "c:\\users\\ct\\appdata\\local\\programs\\python\\python39\\lib\\site-packages\\rpy2\\robjects\\packages.py:366: UserWarning: The symbol 'quartz' is not in this R namespace/package.\n",
      "  warnings.warn(\n"
     ]
    }
   ],
   "source": [
    "%load_ext rpy2.ipython"
   ]
  },
  {
   "cell_type": "code",
   "execution_count": 3,
   "id": "sunrise-voluntary",
   "metadata": {},
   "outputs": [
    {
     "name": "stderr",
     "output_type": "stream",
     "text": [
      "R[write to console]: \n",
      "Attaching package: 'dplyr'\n",
      "\n",
      "\n",
      "R[write to console]: The following objects are masked from 'package:stats':\n",
      "\n",
      "    filter, lag\n",
      "\n",
      "\n",
      "R[write to console]: The following objects are masked from 'package:base':\n",
      "\n",
      "    intersect, setdiff, setequal, union\n",
      "\n",
      "\n",
      "R[write to console]: Loading required package: RColorBrewer\n",
      "\n"
     ]
    }
   ],
   "source": [
    "%%R\n",
    "\n",
    "library(dplyr)\n",
    "library(wordcloud)\n",
    "library(RColorBrewer)\n",
    "library(rtweet)\n",
    "library(tidytext)\n",
    "library(ggplot2)\n",
    "library(wordcloud2)"
   ]
  },
  {
   "cell_type": "code",
   "execution_count": 4,
   "id": "monthly-venue",
   "metadata": {},
   "outputs": [
    {
     "name": "stdout",
     "output_type": "stream",
     "text": [
      "[1] 36305\n"
     ]
    }
   ],
   "source": [
    "%%R\n",
    "\n",
    "url <- \"C:/storage/Personal drive backup/Career/Post-Masters/Delta Analytics Teaching Fellowship/EDA/2.kotdata.csv\"\n",
    "DATFdata <- read.delim(url)\n",
    "dim(DATFdata)[1]"
   ]
  },
  {
   "cell_type": "markdown",
   "id": "actual-occurrence",
   "metadata": {},
   "source": [
    "\n",
    "2. The number of unique conversations had:\n"
   ]
  },
  {
   "cell_type": "code",
   "execution_count": 5,
   "id": "athletic-moldova",
   "metadata": {},
   "outputs": [
    {
     "name": "stdout",
     "output_type": "stream",
     "text": [
      "[1] 35388\n"
     ]
    }
   ],
   "source": [
    "%%R\n",
    "\n",
    "DATFdata$conversation_id <- factor(DATFdata$conversation_id)\n",
    "DATFdata$id <- factor(DATFdata$id)\n",
    "\n",
    "dim(as.data.frame(table(DATFdata$conversation_id)))[1]"
   ]
  },
  {
   "cell_type": "markdown",
   "id": "excellent-compression",
   "metadata": {},
   "source": [
    "\n",
    "3. The number of unique users speaking:\n"
   ]
  },
  {
   "cell_type": "code",
   "execution_count": 6,
   "id": "stopped-cabinet",
   "metadata": {},
   "outputs": [
    {
     "name": "stdout",
     "output_type": "stream",
     "text": [
      "[1] 11049\n"
     ]
    }
   ],
   "source": [
    "%%R\n",
    "\n",
    "DATFdata$user_id <- factor(DATFdata$user_id)\n",
    "\n",
    "dim(as.data.frame(table(DATFdata$user_id)))[1]"
   ]
  },
  {
   "cell_type": "markdown",
   "id": "fabulous-duration",
   "metadata": {},
   "source": [
    "\n",
    "4. The most frequent language of posting:\n"
   ]
  },
  {
   "cell_type": "code",
   "execution_count": 7,
   "id": "fuzzy-healthcare",
   "metadata": {},
   "outputs": [
    {
     "name": "stdout",
     "output_type": "stream",
     "text": [
      "  Language Frequency\n",
      "8       en     27504\n"
     ]
    }
   ],
   "source": [
    "%%R\n",
    "\n",
    "lang <- as.data.frame(table(DATFdata$language))\n",
    "colnames(lang) <- c('Language','Frequency')\n",
    "head(lang[order(lang$Freq, decreasing = TRUE),],n=1)"
   ]
  },
  {
   "cell_type": "markdown",
   "id": "suburban-former",
   "metadata": {},
   "source": [
    "\n",
    "5. The date on which most tweets were posted (tweets were from 1st June 2020 UTC+3 upto 1st June 2021 UTC+3): \n"
   ]
  },
  {
   "cell_type": "code",
   "execution_count": 8,
   "id": "retained-regression",
   "metadata": {},
   "outputs": [
    {
     "name": "stdout",
     "output_type": "stream",
     "text": [
      "          Date Frequency\n",
      "262 2021-02-17       406\n"
     ]
    }
   ],
   "source": [
    "%%R\n",
    "\n",
    "dates <- as.data.frame(table(DATFdata$date))\n",
    "colnames(dates) <- c('Date','Frequency')\n",
    "head(dates[order(dates$Freq, decreasing = TRUE),],n=1)"
   ]
  },
  {
   "cell_type": "markdown",
   "id": "progressive-feelings",
   "metadata": {},
   "source": [
    "\n",
    "### Text transformation\n",
    "\n",
    "Text cleaning was as follows, using `eng_tweets$tweet[4]` as an example:\n"
   ]
  },
  {
   "cell_type": "code",
   "execution_count": 9,
   "id": "powerful-scottish",
   "metadata": {},
   "outputs": [
    {
     "name": "stdout",
     "output_type": "stream",
     "text": [
      "[1]\n"
     ]
    },
    {
     "name": "stderr",
     "output_type": "stream",
     "text": [
      "From cffi callback <function _consolewrite_ex at 0x00000279CE476280>:\n",
      "Traceback (most recent call last):\n",
      "  File \"c:\\users\\ct\\appdata\\local\\programs\\python\\python39\\lib\\site-packages\\rpy2\\rinterface_lib\\callbacks.py\", line 132, in _consolewrite_ex\n",
      "    s = conversion._cchar_to_str_with_maxlen(buf, n, _CCHAR_ENCODING)\n",
      "  File \"c:\\users\\ct\\appdata\\local\\programs\\python\\python39\\lib\\site-packages\\rpy2\\rinterface_lib\\conversion.py\", line 133, in _cchar_to_str_with_maxlen\n",
      "    s = ffi.string(c, maxlen).decode(encoding)\n",
      "UnicodeDecodeError: 'utf-8' codec can't decode byte 0xe2 in position 292: invalid continuation byte\n"
     ]
    },
    {
     "name": "stdout",
     "output_type": "stream",
     "text": [
      "[1] \"@ManUnitedZone_ Made in the streets of mathare,Nairobi,kenya . He was nicknamed Kenyan Messi.Pride of kenya .Friends to @LasetoAbdaz @babazubeyyr @VictorWanyama #KOT.I insist,The First Kenyan to play for Manchester United .you'll land in trouble for misinforming the masses \"\n",
      "[1] \"@ManUnitedZone_ Made in the streets of mathare,Nairobi,kenya . He was nicknamed Kenyan Messi.Pride of kenya .Friends to @LasetoAbdaz @babazubeyyr @VictorWanyama #KOT.I insist,The First Kenyan to play for Manchester United .you'll land in trouble for misinforming the masses \"\n",
      "[1] \"@ManUnitedZone_ Made in the streets of mathare,Nairobi,kenya . He was nicknamed Kenyan Messi.Pride of kenya .Friends to @LasetoAbdaz @babazubeyyr @VictorWanyama #KOT.I insist,The First Kenyan to play for Manchester United .you'll land in trouble for misinforming the masses \"\n",
      "[1] \"ManUnitedZone_ Made in the streets of mathare,Nairobi,kenya . He was nicknamed Kenyan Messi.Pride of kenya .Friends to LasetoAbdaz babazubeyyr VictorWanyama #KOT.I insist,The First Kenyan to play for Manchester United .you'll land in trouble for misinforming the masses \"\n",
      "[1] \"ManUnitedZone_ Made in the streets of mathare,Nairobi,kenya . He was nicknamed Kenyan Messi.Pride of kenya .Friends to LasetoAbdaz babazubeyyr VictorWanyama KOT.I insist,The First Kenyan to play for Manchester United .you'll land in trouble for misinforming the masses \"\n",
      "[1] \"ManUnitedZone_ Made in the streets of mathare,Nairobi,kenya . He was nicknamed Kenyan Messi.Pride of kenya .Friends to LasetoAbdaz babazubeyyr VictorWanyama KOT.I insist,The First Kenyan to play for Manchester United .you'll land in trouble for misinforming the masses \"\n",
      "[1] \"ManUnitedZone_ Made in the streets of mathare,Nairobi,kenya . He was nicknamed Kenyan Messi.Pride of kenya .Friends to LasetoAbdaz babazubeyyr VictorWanyama KOT.I insist,The First Kenyan to play for Manchester United .youll land in trouble for misinforming the masses \"\n",
      "[1] \"ManUnitedZone  Made in the streets of mathare Nairobi kenya   He was nicknamed Kenyan Messi Pride of kenya  Friends to LasetoAbdaz babazubeyyr VictorWanyama KOT I insist The First Kenyan to play for Manchester United  youll land in trouble for misinforming the masses \"\n",
      "[1] \"ManUnitedZone  Made in the streets of mathare Nairobi kenya   He was nicknamed Kenyan Messi Pride of kenya  Friends to LasetoAbdaz babazubeyyr VictorWanyama KOT I insist The First Kenyan to play for Manchester United  youll land in trouble for misinforming the masses \"\n",
      "[1] \"manunitedzone  made in the streets of mathare nairobi kenya   he was nicknamed kenyan messi pride of kenya  friends to lasetoabdaz babazubeyyr victorwanyama kot i insist the first kenyan to play for manchester united  youll land in trouble for misinforming the masses \"\n"
     ]
    }
   ],
   "source": [
    "%%R\n",
    "\n",
    "# Get organic tweets first; found that all tweets were organic!\n",
    "\n",
    "# get only English ones:\n",
    "eng_tweets <- DATFdata[DATFdata$language=='en',]; print(eng_tweets$tweet[4])\n",
    "\n",
    "# Remove funny symbols\n",
    "eng_tweets$tweet <- iconv(eng_tweets$tweet, from = 'UTF-8', to = 'ISO-8859-1', sub = ''); print(eng_tweets$tweet[4])\n",
    "\n",
    "eng_tweets$tweet <- iconv(eng_tweets$tweet, from = 'ISO-8859-1', to = 'UTF-8', sub = ''); print(eng_tweets$tweet[4])\n",
    "\n",
    "eng_tweets$tweet <- gsub(\"https\\\\S*\", \"\", eng_tweets$tweet); print(eng_tweets$tweet[4]) #remove urls\n",
    "\n",
    "eng_tweets$tweet <- gsub(\"@\", \"\", eng_tweets$tweet); print(eng_tweets$tweet[4]) #remove mentions symbol\n",
    "\n",
    "eng_tweets$tweet <- gsub(\"#*\", \"\", eng_tweets$tweet); print(eng_tweets$tweet[4]) #remove hashtags symbol\n",
    "\n",
    "eng_tweets$tweet <- gsub(\"[\\r\\n]\", \" \", eng_tweets$tweet); print(eng_tweets$tweet[4]) #remove newline characters\n",
    "\n",
    "#(we have separate columns with the details)\n",
    "# Punctuation was managed as follows:\n",
    "eng_tweets$tweet <- gsub(\"'\", \"\", eng_tweets$tweet); print(eng_tweets$tweet[4])\n",
    "\n",
    "eng_tweets$tweet <- gsub(\"[[:punct:]]\", \" \", eng_tweets$tweet); print(eng_tweets$tweet[4])\n",
    "\n",
    "eng_tweets$tweet <- gsub(\"amp\", \"\", eng_tweets$tweet); print(eng_tweets$tweet[4]) # remove ampersands\n",
    "\n",
    "# Finally, everything was made lowercase\n",
    "eng_tweets$tweet <- tolower(eng_tweets$tweet); print(eng_tweets$tweet[4])"
   ]
  },
  {
   "cell_type": "code",
   "execution_count": 10,
   "id": "fitted-machinery",
   "metadata": {},
   "outputs": [],
   "source": [
    "%%R\n",
    "\n",
    "# Tokenize words\n",
    "Words <- eng_tweets %>%\n",
    "  select(tweet) %>%\n",
    "  unnest_tokens(word, tweet)"
   ]
  },
  {
   "cell_type": "markdown",
   "id": "forward-verification",
   "metadata": {},
   "source": [
    "\n",
    "### Word Frequency\n"
   ]
  },
  {
   "cell_type": "code",
   "execution_count": 11,
   "id": "turned-blair",
   "metadata": {},
   "outputs": [
    {
     "name": "stdout",
     "output_type": "stream",
     "text": [
      "Selecting by n\n"
     ]
    },
    {
     "data": {
      "image/png": "[encoded data removed]"
     },
     "metadata": {},
     "output_type": "display_data"
    }
   ],
   "source": [
    "%%R\n",
    "\n",
    "Words %>% # gives you a bar chart of the most frequent words found in the tweets\n",
    "  count(word, sort = TRUE) %>%\n",
    "  top_n(15) %>%\n",
    "  mutate(word = reorder(word, n)) %>%\n",
    "  ggplot(aes(x = word, y = n)) +\n",
    "  geom_col() +\n",
    "  xlab(NULL) +\n",
    "  coord_flip() +\n",
    "  labs(y = \"Count\",\n",
    "       x = \"Unique words\",\n",
    "       title = \"Most frequent words found in the #KOT tweets\")"
   ]
  },
  {
   "cell_type": "code",
   "execution_count": 12,
   "id": "placed-poland",
   "metadata": {},
   "outputs": [
    {
     "name": "stdout",
     "output_type": "stream",
     "text": [
      "Joining, by = \"word\"\n",
      "Selecting by n\n"
     ]
    },
    {
     "data": {
      "image/png": "[encoded data removed]"
     },
     "metadata": {},
     "output_type": "display_data"
    }
   ],
   "source": [
    "%%R\n",
    "\n",
    "# remove stop words\n",
    "Words <- Words %>%\n",
    "  anti_join(stop_words)\n",
    "\n",
    "Words %>% # gives you a bar chart of the most frequent words found in the tweets\n",
    "  count(word, sort = TRUE) %>%\n",
    "  top_n(15) %>%\n",
    "  mutate(word = reorder(word, n)) %>%\n",
    "  ggplot(aes(x = word, y = n)) +\n",
    "  geom_col() +\n",
    "  xlab(NULL) +\n",
    "  coord_flip() +\n",
    "  labs(y = \"Count\",\n",
    "       x = \"Unique words\",\n",
    "       title = \"Most frequent words found in the #KOT tweets\",\n",
    "       subtitle = \"Stop words removed from the list\")"
   ]
  },
  {
   "cell_type": "markdown",
   "id": "expired-nursery",
   "metadata": {},
   "source": [
    "\n",
    "### Hashtag Frequency\n",
    "\n",
    "All tweets have the hashtag `#KOT`, but we are interested in what else this community talks about, so this hashtag will have to be removed from our visualization.\n"
   ]
  },
  {
   "cell_type": "code",
   "execution_count": 13,
   "id": "found-split",
   "metadata": {},
   "outputs": [],
   "source": [
    "%%R\n",
    "\n",
    "eng_tweets$hashtags <- as.character(eng_tweets$hashtags)\n",
    "\n",
    "eng_tweets$hashtags <- gsub(\"[[:punct:]]\", \"\", eng_tweets$hashtags)\n",
    "\n",
    "# every hashtag was made lowercase\n",
    "eng_tweets$hashtags <- tolower(eng_tweets$hashtags)\n",
    "\n",
    "# and #KOT was removed before tokenization\n",
    "eng_tweets$hashtags <- gsub(\"kot\", \"\", eng_tweets$hashtags)\n",
    "\n",
    "Hashtags <- eng_tweets %>%\n",
    "  select(hashtags) %>%\n",
    "  unnest_tokens(word, hashtags)\n",
    "\n",
    "Hashtags_count <- as.data.frame(table(Hashtags$word))\n",
    "\n",
    "viz1 <- wordcloud2(Hashtags_count, size=0.7)"
   ]
  },
  {
   "cell_type": "markdown",
   "id": "arranged-intersection",
   "metadata": {},
   "source": [
    "![](viz1.PNG)"
   ]
  },
  {
   "cell_type": "code",
   "execution_count": 14,
   "id": "meaning-soviet",
   "metadata": {},
   "outputs": [
    {
     "name": "stdout",
     "output_type": "stream",
     "text": [
      "                  Var1 Freq\n",
      "6970             kenya 3074\n",
      "8039            loyals 3050\n",
      "9173           nairobi 1196\n",
      "2883         covid19ke 1187\n",
      "6033         ikokazike 1016\n",
      "1178       bbinonsense  989\n",
      "2133               cat  871\n",
      "4957              gato  815\n",
      "8181  mainaandkingangi  756\n",
      "12803      teamclassic  607\n"
     ]
    }
   ],
   "source": [
    "%%R\n",
    "\n",
    "head(Hashtags_count[order(Hashtags_count$Freq, decreasing = TRUE),], n=10)"
   ]
  },
  {
   "cell_type": "markdown",
   "id": "recreational-finger",
   "metadata": {},
   "source": [
    "Based on the results above\n",
    "\n",
    "* platform (`#loyals`),\n",
    "* patriotism (`#kenya` and `#nairobi`),\n",
    "* radio (`#mainaandkingangi` and `#teamclassic`),\n",
    "* political trends (`#bbinonsense` and `#punguzamizigo`)\n",
    "* job ads(`#ikokazike` and `#ikokazi`) and\n",
    "* cats (`#cat` and `#gato`)\n",
    "\n",
    "took centre stage. "
   ]
  },
  {
   "cell_type": "markdown",
   "id": "standing-ability",
   "metadata": {},
   "source": [
    "\n",
    "### People of Influence\n",
    "\n",
    "In this area, we are interested in identifying people mentioned most frequently.\n",
    "\n",
    "The text, using `eng_tweets$mentions[4]` as an example was first converted as follows:\n"
   ]
  },
  {
   "cell_type": "code",
   "execution_count": 15,
   "id": "advance-method",
   "metadata": {},
   "outputs": [
    {
     "name": "stdout",
     "output_type": "stream",
     "text": [
      "[1] 6887    1\n"
     ]
    }
   ],
   "source": [
    "%%R\n",
    "\n",
    "eng_tweets$mentions[4]\n",
    "# Remove funny symbols\n",
    "eng_tweets$mentions <- iconv(eng_tweets$mentions, from = 'UTF-8', to = 'UTF-8');eng_tweets$mentions[4]\n",
    "\n",
    "eng_tweets$mentions <- stringr::str_replace_all(\n",
    "  eng_tweets$mentions, \"\\'\", \"\\\"\")\n",
    "eng_tweets$mentions <- gsub(\"[\", \"\", eng_tweets$mentions, fixed = TRUE)\n",
    "eng_tweets$mentions <- gsub(\"]\", \"\", eng_tweets$mentions, fixed = TRUE)\n",
    "\n",
    "df <- as.data.frame(eng_tweets$mentions); dim(df)\n",
    "df[df == \"\"] <- NA  \n",
    "df <- na.omit(df); dim(df)\n"
   ]
  },
  {
   "cell_type": "code",
   "execution_count": 16,
   "id": "thorough-costume",
   "metadata": {},
   "outputs": [
    {
     "data": {
      "text/plain": [
       "'C:\\\\Users\\\\CT\\\\Documents\\\\GitHub\\\\Delta-Analytics-2021-CT-Project'"
      ]
     },
     "execution_count": 16,
     "metadata": {},
     "output_type": "execute_result"
    }
   ],
   "source": [
    "#get file location\n",
    "os.getcwd()"
   ]
  },
  {
   "cell_type": "code",
   "execution_count": 17,
   "id": "spare-receipt",
   "metadata": {},
   "outputs": [],
   "source": [
    "%%R\n",
    "\n",
    "write.csv(df$`eng_tweets$mentions`,'C:/Users/CT/Documents/GitHub/Delta-Analytics-2021-CT-Project/dicts.csv')"
   ]
  },
  {
   "cell_type": "code",
   "execution_count": 18,
   "id": "administrative-bedroom",
   "metadata": {},
   "outputs": [
    {
     "data": {
      "text/html": [
       "<div>\n",
       "<style scoped>\n",
       "    .dataframe tbody tr th:only-of-type {\n",
       "        vertical-align: middle;\n",
       "    }\n",
       "\n",
       "    .dataframe tbody tr th {\n",
       "        vertical-align: top;\n",
       "    }\n",
       "\n",
       "    .dataframe thead th {\n",
       "        text-align: right;\n",
       "    }\n",
       "</style>\n",
       "<table border=\"1\" class=\"dataframe\">\n",
       "  <thead>\n",
       "    <tr style=\"text-align: right;\">\n",
       "      <th></th>\n",
       "      <th>Unnamed: 0</th>\n",
       "      <th>x</th>\n",
       "    </tr>\n",
       "  </thead>\n",
       "  <tbody>\n",
       "    <tr>\n",
       "      <th>0</th>\n",
       "      <td>1</td>\n",
       "      <td>{\"screen_name\": \"lasetoabdaz\", \"name\": \"abdaz\"...</td>\n",
       "    </tr>\n",
       "    <tr>\n",
       "      <th>1</th>\n",
       "      <td>2</td>\n",
       "      <td>{\"screen_name\": \"gracekuriake\", \"name\": \"grace...</td>\n",
       "    </tr>\n",
       "    <tr>\n",
       "      <th>2</th>\n",
       "      <td>3</td>\n",
       "      <td>{\"screen_name\": \"bravinyuri\", \"name\": \"bravin ...</td>\n",
       "    </tr>\n",
       "    <tr>\n",
       "      <th>3</th>\n",
       "      <td>4</td>\n",
       "      <td>{\"screen_name\": \"ukinkenya\", \"name\": \"uk in ke...</td>\n",
       "    </tr>\n",
       "    <tr>\n",
       "      <th>4</th>\n",
       "      <td>5</td>\n",
       "      <td>{\"screen_name\": \"shopmduka\", \"name\": \"mduka\", ...</td>\n",
       "    </tr>\n",
       "  </tbody>\n",
       "</table>\n",
       "</div>"
      ],
      "text/plain": [
       "   Unnamed: 0                                                  x\n",
       "0           1  {\"screen_name\": \"lasetoabdaz\", \"name\": \"abdaz\"...\n",
       "1           2  {\"screen_name\": \"gracekuriake\", \"name\": \"grace...\n",
       "2           3  {\"screen_name\": \"bravinyuri\", \"name\": \"bravin ...\n",
       "3           4  {\"screen_name\": \"ukinkenya\", \"name\": \"uk in ke...\n",
       "4           5  {\"screen_name\": \"shopmduka\", \"name\": \"mduka\", ..."
      ]
     },
     "execution_count": 18,
     "metadata": {},
     "output_type": "execute_result"
    }
   ],
   "source": [
    "dicts = pd.read_csv('dicts.csv')\n",
    "dicts.head(5)"
   ]
  },
  {
   "cell_type": "code",
   "execution_count": 19,
   "id": "unique-cross",
   "metadata": {},
   "outputs": [
    {
     "data": {
      "text/plain": [
       "(6887, 1)"
      ]
     },
     "execution_count": 19,
     "metadata": {},
     "output_type": "execute_result"
    }
   ],
   "source": [
    "# Delete the column\n",
    "dicts = dicts.drop(labels='Unnamed: 0', axis=1)\n",
    "dicts.shape"
   ]
  },
  {
   "cell_type": "code",
   "execution_count": 20,
   "id": "cognitive-enough",
   "metadata": {},
   "outputs": [
    {
     "data": {
      "text/html": [
       "<div>\n",
       "<style scoped>\n",
       "    .dataframe tbody tr th:only-of-type {\n",
       "        vertical-align: middle;\n",
       "    }\n",
       "\n",
       "    .dataframe tbody tr th {\n",
       "        vertical-align: top;\n",
       "    }\n",
       "\n",
       "    .dataframe thead th {\n",
       "        text-align: right;\n",
       "    }\n",
       "</style>\n",
       "<table border=\"1\" class=\"dataframe\">\n",
       "  <thead>\n",
       "    <tr style=\"text-align: right;\">\n",
       "      <th></th>\n",
       "      <th>x</th>\n",
       "    </tr>\n",
       "  </thead>\n",
       "  <tbody>\n",
       "    <tr>\n",
       "      <th>0</th>\n",
       "      <td>{\"screen_name\": \"lasetoabdaz\", \"name\": \"abdaz\"...</td>\n",
       "    </tr>\n",
       "    <tr>\n",
       "      <th>1</th>\n",
       "      <td>{\"screen_name\": \"gracekuriake\", \"name\": \"grace...</td>\n",
       "    </tr>\n",
       "    <tr>\n",
       "      <th>2</th>\n",
       "      <td>{\"screen_name\": \"bravinyuri\", \"name\": \"bravin ...</td>\n",
       "    </tr>\n",
       "    <tr>\n",
       "      <th>3</th>\n",
       "      <td>{\"screen_name\": \"ukinkenya\", \"name\": \"uk in ke...</td>\n",
       "    </tr>\n",
       "    <tr>\n",
       "      <th>4</th>\n",
       "      <td>{\"screen_name\": \"shopmduka\", \"name\": \"mduka\", ...</td>\n",
       "    </tr>\n",
       "  </tbody>\n",
       "</table>\n",
       "</div>"
      ],
      "text/plain": [
       "                                                   x\n",
       "0  {\"screen_name\": \"lasetoabdaz\", \"name\": \"abdaz\"...\n",
       "1  {\"screen_name\": \"gracekuriake\", \"name\": \"grace...\n",
       "2  {\"screen_name\": \"bravinyuri\", \"name\": \"bravin ...\n",
       "3  {\"screen_name\": \"ukinkenya\", \"name\": \"uk in ke...\n",
       "4  {\"screen_name\": \"shopmduka\", \"name\": \"mduka\", ..."
      ]
     },
     "execution_count": 20,
     "metadata": {},
     "output_type": "execute_result"
    }
   ],
   "source": [
    "dicts.head(5)"
   ]
  },
  {
   "cell_type": "code",
   "execution_count": 21,
   "id": "appropriate-ballet",
   "metadata": {},
   "outputs": [
    {
     "name": "stdout",
     "output_type": "stream",
     "text": [
      "screen_name:lasetoabdaz,name:abdaz,id:502972112,screen_name:babazubeyyr,name:<U+0001F40E>,id:1379069357683322886,screen_name:victorwanyama,name:victorwanyama,id:327549892 \n",
      "\n",
      "screen_name:gracekuriake,name:gracekuria,id:2172617474\n"
     ]
    }
   ],
   "source": [
    "single_dicts_copy = dicts.copy()\n",
    "single_dicts_copy.iloc[:,0] = single_dicts_copy.iloc[:,0].str.replace('{','',regex=False)\n",
    "single_dicts_copy.iloc[:,0] = single_dicts_copy.iloc[:,0].str.replace('}','',regex=False)\n",
    "single_dicts_copy.iloc[:,0] = single_dicts_copy.iloc[:,0].str.replace(' ','',regex=False)\n",
    "single_dicts_copy.iloc[:,0] = single_dicts_copy.iloc[:,0].str.replace(\"\\\"\",'',regex=False)\n",
    "single_dicts_copy.columns = ['dictionary']\n",
    "print(single_dicts_copy.iloc[0,0],'\\n')\n",
    "print(single_dicts_copy.iloc[1,0])"
   ]
  },
  {
   "cell_type": "code",
   "execution_count": 22,
   "id": "fundamental-rainbow",
   "metadata": {},
   "outputs": [
    {
     "name": "stdout",
     "output_type": "stream",
     "text": [
      "6887 \n",
      "\n"
     ]
    },
    {
     "data": {
      "text/plain": [
       "['screen_name:lasetoabdaz',\n",
       " 'name:abdaz',\n",
       " 'id:502972112',\n",
       " 'screen_name:babazubeyyr',\n",
       " 'name:<U+0001F40E>',\n",
       " 'id:1379069357683322886',\n",
       " 'screen_name:victorwanyama',\n",
       " 'name:victorwanyama',\n",
       " 'id:327549892']"
      ]
     },
     "execution_count": 22,
     "metadata": {},
     "output_type": "execute_result"
    }
   ],
   "source": [
    "long_lst = list(single_dicts_copy.iloc[:,0].values)\n",
    "info = []\n",
    "i=0\n",
    "\n",
    "for i in range(len(single_dicts_copy.iloc[:,0])):\n",
    "    item = long_lst[i].split(\",\")\n",
    "    info.append(item)\n",
    "\n",
    "print(len(info),'\\n')\n",
    "info[0]"
   ]
  },
  {
   "cell_type": "code",
   "execution_count": 23,
   "id": "touched-interference",
   "metadata": {},
   "outputs": [
    {
     "name": "stdout",
     "output_type": "stream",
     "text": [
      "6887 \n",
      "\n"
     ]
    },
    {
     "data": {
      "text/plain": [
       "[['screen_name:lasetoabdaz',\n",
       "  'screen_name:babazubeyyr',\n",
       "  'screen_name:victorwanyama'],\n",
       " ['screen_name:gracekuriake'],\n",
       " ['screen_name:bravinyuri', 'screen_name:moh_kenya'],\n",
       " ['screen_name:ukinkenya',\n",
       "  'screen_name:usaideducation',\n",
       "  'screen_name:gpforeducation',\n",
       "  'screen_name:carolinemutoko'],\n",
       " ['screen_name:shopmduka']]"
      ]
     },
     "execution_count": 23,
     "metadata": {},
     "output_type": "execute_result"
    }
   ],
   "source": [
    "screen_names = []\n",
    "i=0\n",
    "# initializing substring\n",
    "subs = 'screen_name'\n",
    "\n",
    "for i in range(len(info)):\n",
    "    item = list(filter(lambda x: subs in x, info[i]))\n",
    "    screen_names.append(item)\n",
    "\n",
    "print(len(screen_names),'\\n')\n",
    "screen_names[0:5]"
   ]
  },
  {
   "cell_type": "code",
   "execution_count": 24,
   "id": "spatial-december",
   "metadata": {},
   "outputs": [
    {
     "name": "stdout",
     "output_type": "stream",
     "text": [
      "6887 \n",
      "\n"
     ]
    },
    {
     "data": {
      "text/plain": [
       "[['id:502972112', 'id:1379069357683322886', 'id:327549892'],\n",
       " ['id:2172617474'],\n",
       " ['id:178677263', 'id:4871317955'],\n",
       " ['id:205171299', 'id:460364759', 'id:171314974', 'id:2301252554'],\n",
       " ['id:739841206700675072']]"
      ]
     },
     "execution_count": 24,
     "metadata": {},
     "output_type": "execute_result"
    }
   ],
   "source": [
    "ids = []\n",
    "i=0\n",
    "# initializing substring\n",
    "subs = 'id:'\n",
    "\n",
    "for i in range(len(info)):\n",
    "    item = list(filter(lambda x: subs in x, info[i]))\n",
    "    ids.append(item)\n",
    "\n",
    "print(len(ids),'\\n')\n",
    "ids[0:5]"
   ]
  },
  {
   "cell_type": "code",
   "execution_count": 25,
   "id": "substantial-market",
   "metadata": {},
   "outputs": [
    {
     "data": {
      "text/plain": [
       "(16235,)"
      ]
     },
     "execution_count": 25,
     "metadata": {},
     "output_type": "execute_result"
    }
   ],
   "source": [
    "flat_list = [item for sublist in screen_names for item in sublist]\n",
    "screen_names_s = pd.Series(flat_list)\n",
    "screen_names_s.shape"
   ]
  },
  {
   "cell_type": "code",
   "execution_count": 26,
   "id": "located-costa",
   "metadata": {},
   "outputs": [
    {
     "data": {
      "text/plain": [
       "(16235,)"
      ]
     },
     "execution_count": 26,
     "metadata": {},
     "output_type": "execute_result"
    }
   ],
   "source": [
    "flat_list = [item for sublist in ids for item in sublist]\n",
    "ids_s = pd.Series(flat_list)\n",
    "ids_s.shape"
   ]
  },
  {
   "cell_type": "code",
   "execution_count": 27,
   "id": "static-cinema",
   "metadata": {},
   "outputs": [
    {
     "data": {
      "text/html": [
       "<div>\n",
       "<style scoped>\n",
       "    .dataframe tbody tr th:only-of-type {\n",
       "        vertical-align: middle;\n",
       "    }\n",
       "\n",
       "    .dataframe tbody tr th {\n",
       "        vertical-align: top;\n",
       "    }\n",
       "\n",
       "    .dataframe thead th {\n",
       "        text-align: right;\n",
       "    }\n",
       "</style>\n",
       "<table border=\"1\" class=\"dataframe\">\n",
       "  <thead>\n",
       "    <tr style=\"text-align: right;\">\n",
       "      <th></th>\n",
       "      <th>id</th>\n",
       "      <th>screen_name</th>\n",
       "    </tr>\n",
       "  </thead>\n",
       "  <tbody>\n",
       "    <tr>\n",
       "      <th>0</th>\n",
       "      <td>id:502972112</td>\n",
       "      <td>screen_name:lasetoabdaz</td>\n",
       "    </tr>\n",
       "    <tr>\n",
       "      <th>1</th>\n",
       "      <td>id:1379069357683322886</td>\n",
       "      <td>screen_name:babazubeyyr</td>\n",
       "    </tr>\n",
       "    <tr>\n",
       "      <th>2</th>\n",
       "      <td>id:327549892</td>\n",
       "      <td>screen_name:victorwanyama</td>\n",
       "    </tr>\n",
       "    <tr>\n",
       "      <th>3</th>\n",
       "      <td>id:2172617474</td>\n",
       "      <td>screen_name:gracekuriake</td>\n",
       "    </tr>\n",
       "    <tr>\n",
       "      <th>4</th>\n",
       "      <td>id:178677263</td>\n",
       "      <td>screen_name:bravinyuri</td>\n",
       "    </tr>\n",
       "  </tbody>\n",
       "</table>\n",
       "</div>"
      ],
      "text/plain": [
       "                       id                screen_name\n",
       "0            id:502972112    screen_name:lasetoabdaz\n",
       "1  id:1379069357683322886    screen_name:babazubeyyr\n",
       "2            id:327549892  screen_name:victorwanyama\n",
       "3           id:2172617474   screen_name:gracekuriake\n",
       "4            id:178677263     screen_name:bravinyuri"
      ]
     },
     "execution_count": 27,
     "metadata": {},
     "output_type": "execute_result"
    }
   ],
   "source": [
    "data = {\"id\": ids_s,\n",
    "        \"screen_name\": screen_names_s}\n",
    "\n",
    "persons_df = pd.concat(data,axis=1)\n",
    "persons_df.head(5)"
   ]
  },
  {
   "cell_type": "code",
   "execution_count": 28,
   "id": "thousand-integration",
   "metadata": {},
   "outputs": [
    {
     "data": {
      "text/html": [
       "<div>\n",
       "<style scoped>\n",
       "    .dataframe tbody tr th:only-of-type {\n",
       "        vertical-align: middle;\n",
       "    }\n",
       "\n",
       "    .dataframe tbody tr th {\n",
       "        vertical-align: top;\n",
       "    }\n",
       "\n",
       "    .dataframe thead th {\n",
       "        text-align: right;\n",
       "    }\n",
       "</style>\n",
       "<table border=\"1\" class=\"dataframe\">\n",
       "  <thead>\n",
       "    <tr style=\"text-align: right;\">\n",
       "      <th></th>\n",
       "      <th>id</th>\n",
       "      <th>screen_name</th>\n",
       "    </tr>\n",
       "  </thead>\n",
       "  <tbody>\n",
       "    <tr>\n",
       "      <th>0</th>\n",
       "      <td>502972112</td>\n",
       "      <td>lasetoabdaz</td>\n",
       "    </tr>\n",
       "    <tr>\n",
       "      <th>1</th>\n",
       "      <td>1379069357683322886</td>\n",
       "      <td>babazubeyyr</td>\n",
       "    </tr>\n",
       "    <tr>\n",
       "      <th>2</th>\n",
       "      <td>327549892</td>\n",
       "      <td>victorwanyama</td>\n",
       "    </tr>\n",
       "    <tr>\n",
       "      <th>3</th>\n",
       "      <td>2172617474</td>\n",
       "      <td>gracekuriake</td>\n",
       "    </tr>\n",
       "    <tr>\n",
       "      <th>4</th>\n",
       "      <td>178677263</td>\n",
       "      <td>bravinyuri</td>\n",
       "    </tr>\n",
       "  </tbody>\n",
       "</table>\n",
       "</div>"
      ],
      "text/plain": [
       "                    id    screen_name\n",
       "0            502972112    lasetoabdaz\n",
       "1  1379069357683322886    babazubeyyr\n",
       "2            327549892  victorwanyama\n",
       "3           2172617474   gracekuriake\n",
       "4            178677263     bravinyuri"
      ]
     },
     "execution_count": 28,
     "metadata": {},
     "output_type": "execute_result"
    }
   ],
   "source": [
    "# Remove identifiers\n",
    "persons_df['id'] = persons_df['id'].str.replace('id:','',regex=False)\n",
    "persons_df['screen_name'] = persons_df['screen_name'].str.replace('screen_name:','',regex=False)\n",
    "persons_df.head(5)"
   ]
  },
  {
   "cell_type": "code",
   "execution_count": 29,
   "id": "hispanic-screen",
   "metadata": {},
   "outputs": [],
   "source": [
    "# Export to R for wordcloud\n",
    "persons_df.to_csv('C:/Users/CT/Documents/GitHub/Delta-Analytics-2021-CT-Project/Tweeps.csv')"
   ]
  },
  {
   "cell_type": "code",
   "execution_count": 30,
   "id": "angry-chicago",
   "metadata": {},
   "outputs": [],
   "source": [
    "%%R\n",
    "\n",
    "persons <- read.csv('C:/Users/CT/Documents/GitHub/Delta-Analytics-2021-CT-Project/Tweeps.csv')\n",
    "\n",
    "Tweep_count <- as.data.frame(table(persons$screen_name))\n",
    "\n",
    "viz2 <- wordcloud2(Tweep_count, size=0.7)"
   ]
  },
  {
   "cell_type": "markdown",
   "id": "continuing-warehouse",
   "metadata": {},
   "source": [
    "![](viz2.PNG)"
   ]
  },
  {
   "cell_type": "code",
   "execution_count": 31,
   "id": "senior-proceeding",
   "metadata": {},
   "outputs": [
    {
     "name": "stdout",
     "output_type": "stream",
     "text": [
      "                Var1 Freq\n",
      "3668 statehousekenya  278\n",
      "3450      safebetske  233\n",
      "3297     railaodinga  205\n",
      "721   citizentvkenya  203\n",
      "1001        dodzweit  197\n",
      "2967        ntvkenya  162\n",
      "733  classic105kenya  154\n",
      "896        dci_kenya  150\n",
      "4213    williamsruto  144\n",
      "2832     nassemblyke  139\n"
     ]
    }
   ],
   "source": [
    "%%R\n",
    "\n",
    "head(Tweep_count[order(Tweep_count$Freq, decreasing = TRUE),],n=10)"
   ]
  },
  {
   "cell_type": "markdown",
   "id": "figured-chart",
   "metadata": {},
   "source": [
    "Based on the result above, the most mentioned 'persons' over the past year on Twitter were \n",
    "\n",
    "* political institutions such as `@statehousekenya`, `@dcikenya` and `@nassemblyke`,\n",
    "* a betting firm, `@safebetske`,\n",
    "* politicians such as `@railaodinga` (the leader of Kenyan opposition parties) and `@williamsruto` (the current deputy vice president) as well as\n",
    "* media houses such as `@citizentvkenya`, `@ntvkenya` and `@classic105kenya` and\n",
    "* an inspiration account, `@dodzweit` (A reverend who posts inspirational and at times Christian content)\n",
    "\n",
    "A possible explanation for this phenomenon is that 2022 will be an election year, and the two political leaders are running against each other and campaigning online.\n",
    "\n",
    "However,\n",
    "\n",
    "* `@dodzweit` was mentioned only by the church s/he pastors, `@cotchurchhq`, primarily in short summaries of his/her talks.\n",
    "* `@safebetske` was mentioned only by a forex trader, `@theforexguyke`, primarily in retweets.\n",
    "\n",
    "## MODELLING"
   ]
  },
  {
   "cell_type": "code",
   "execution_count": 32,
   "id": "violent-meter",
   "metadata": {},
   "outputs": [
    {
     "name": "stdout",
     "output_type": "stream",
     "text": [
      "        eng_tweets$id eng_tweets$conversation_id eng_tweets$date\n",
      "1  1.399492256718e+18        1399231989673234432      2021-06-01\n",
      "2 1399486902898761728        1399486902898761728      2021-06-01\n",
      "3 1399486184829734912        1399486184829734912      2021-06-01\n",
      "4 1399485584285044736        1399441176831442944      2021-06-01\n",
      "5 1399476235680559104        1399476235680559104      2021-06-01\n",
      "  eng_tweets$time  eng_tweets$user_id\n",
      "1        01:25:29 1184134876443881472\n",
      "2        01:04:13          1827231318\n",
      "3        01:01:22           257602883\n",
      "4        00:58:59  949012273615515648\n",
      "5        00:21:50            98336047\n",
      "                                                                                                                                                                                                                                                              eng_tweets$tweet\n",
      "1                                                                                                                                                                                                                  smackasoreass tobibwy e teezey1286 yes  how could you   kot\n",
      "2                                                                                                                                                                                                                      im sure this was a demo video  kot kenya africa ufisadi\n",
      "3                                                                the generation that buys phones that cost 3 times their parents monthly salary are surprised that their parents think that they are working somewhere  the parents are just telling them to keep working  kot\n",
      "4 manunitedzone  made in the streets of mathare nairobi kenya   he was nicknamed kenyan messi pride of kenya  friends to lasetoabdaz babazubeyyr victorwanyama kot i insist the first kenyan to play for manchester united  youll land in trouble for misinforming the masses \n",
      "5                                                                                                                                                      madam gracekuriake we thank you for all the job updates that you give kot you are impacting lives    one job at a time \n",
      "                                                                                                                                                                                                                     eng_tweets$mentions\n",
      "1                                                                                                                                                                                                                                       \n",
      "2                                                                                                                                                                                                                                       \n",
      "3                                                                                                                                                                                                                                       \n",
      "4 {\"screen_name\": \"lasetoabdaz\", \"name\": \"abdaz\", \"id\": \"502972112\"}, {\"screen_name\": \"babazubeyyr\", \"name\": \"<U+0001F40E>\", \"id\": \"1379069357683322886\"}, {\"screen_name\": \"victorwanyama\", \"name\": \"victor wanyama\", \"id\": \"327549892\"}\n",
      "5                                                                                                                                                             {\"screen_name\": \"gracekuriake\", \"name\": \"grace kuria\", \"id\": \"2172617474\"}\n",
      "    eng_tweets$hashtags\n",
      "1                      \n",
      "2  kenya africa ufisadi\n",
      "3                      \n",
      "4                      \n",
      "5                      \n"
     ]
    }
   ],
   "source": [
    "%%R\n",
    "\n",
    "model_data <- cbind.data.frame(eng_tweets$id, eng_tweets$conversation_id,\n",
    "                               eng_tweets$date, eng_tweets$time,\n",
    "                               eng_tweets$user_id, eng_tweets$tweet,\n",
    "                               eng_tweets$mentions, eng_tweets$hashtags)\n",
    "write.csv(model_data, 'eng_model_data.csv')\n",
    "model_data[1:5,]"
   ]
  },
  {
   "cell_type": "code",
   "execution_count": 33,
   "id": "boolean-screen",
   "metadata": {},
   "outputs": [
    {
     "data": {
      "text/html": [
       "<div>\n",
       "<style scoped>\n",
       "    .dataframe tbody tr th:only-of-type {\n",
       "        vertical-align: middle;\n",
       "    }\n",
       "\n",
       "    .dataframe tbody tr th {\n",
       "        vertical-align: top;\n",
       "    }\n",
       "\n",
       "    .dataframe thead th {\n",
       "        text-align: right;\n",
       "    }\n",
       "</style>\n",
       "<table border=\"1\" class=\"dataframe\">\n",
       "  <thead>\n",
       "    <tr style=\"text-align: right;\">\n",
       "      <th></th>\n",
       "      <th>Unnamed: 0</th>\n",
       "      <th>eng_tweets$id</th>\n",
       "      <th>eng_tweets$conversation_id</th>\n",
       "      <th>eng_tweets$date</th>\n",
       "      <th>eng_tweets$time</th>\n",
       "      <th>eng_tweets$user_id</th>\n",
       "      <th>eng_tweets$tweet</th>\n",
       "      <th>eng_tweets$mentions</th>\n",
       "      <th>eng_tweets$hashtags</th>\n",
       "    </tr>\n",
       "  </thead>\n",
       "  <tbody>\n",
       "    <tr>\n",
       "      <th>0</th>\n",
       "      <td>1</td>\n",
       "      <td>1.399492e+18</td>\n",
       "      <td>1.399232e+18</td>\n",
       "      <td>2021-06-01</td>\n",
       "      <td>01:25:29</td>\n",
       "      <td>1.184135e+18</td>\n",
       "      <td>smackasoreass tobibwy e teezey1286 yes  how co...</td>\n",
       "      <td>NaN</td>\n",
       "      <td>NaN</td>\n",
       "    </tr>\n",
       "    <tr>\n",
       "      <th>1</th>\n",
       "      <td>2</td>\n",
       "      <td>1.399487e+18</td>\n",
       "      <td>1.399487e+18</td>\n",
       "      <td>2021-06-01</td>\n",
       "      <td>01:04:13</td>\n",
       "      <td>1.827231e+09</td>\n",
       "      <td>im sure this was a demo video  kot kenya afric...</td>\n",
       "      <td>NaN</td>\n",
       "      <td>kenya africa ufisadi</td>\n",
       "    </tr>\n",
       "    <tr>\n",
       "      <th>2</th>\n",
       "      <td>3</td>\n",
       "      <td>1.399486e+18</td>\n",
       "      <td>1.399486e+18</td>\n",
       "      <td>2021-06-01</td>\n",
       "      <td>01:01:22</td>\n",
       "      <td>2.576029e+08</td>\n",
       "      <td>the generation that buys phones that cost 3 ti...</td>\n",
       "      <td>NaN</td>\n",
       "      <td>NaN</td>\n",
       "    </tr>\n",
       "    <tr>\n",
       "      <th>3</th>\n",
       "      <td>4</td>\n",
       "      <td>1.399486e+18</td>\n",
       "      <td>1.399441e+18</td>\n",
       "      <td>2021-06-01</td>\n",
       "      <td>00:58:59</td>\n",
       "      <td>9.490123e+17</td>\n",
       "      <td>manunitedzone  made in the streets of mathare ...</td>\n",
       "      <td>{\"screen_name\": \"lasetoabdaz\", \"name\": \"abdaz\"...</td>\n",
       "      <td>NaN</td>\n",
       "    </tr>\n",
       "    <tr>\n",
       "      <th>4</th>\n",
       "      <td>5</td>\n",
       "      <td>1.399476e+18</td>\n",
       "      <td>1.399476e+18</td>\n",
       "      <td>2021-06-01</td>\n",
       "      <td>00:21:50</td>\n",
       "      <td>9.833605e+07</td>\n",
       "      <td>madam gracekuriake we thank you for all the jo...</td>\n",
       "      <td>{\"screen_name\": \"gracekuriake\", \"name\": \"grace...</td>\n",
       "      <td>NaN</td>\n",
       "    </tr>\n",
       "    <tr>\n",
       "      <th>...</th>\n",
       "      <td>...</td>\n",
       "      <td>...</td>\n",
       "      <td>...</td>\n",
       "      <td>...</td>\n",
       "      <td>...</td>\n",
       "      <td>...</td>\n",
       "      <td>...</td>\n",
       "      <td>...</td>\n",
       "      <td>...</td>\n",
       "    </tr>\n",
       "    <tr>\n",
       "      <th>27499</th>\n",
       "      <td>27500</td>\n",
       "      <td>1.267312e+18</td>\n",
       "      <td>1.267312e+18</td>\n",
       "      <td>2020-06-01</td>\n",
       "      <td>07:26:36</td>\n",
       "      <td>7.188911e+17</td>\n",
       "      <td>at 57 years old   kenya is a typical african m...</td>\n",
       "      <td>NaN</td>\n",
       "      <td>madarakaday</td>\n",
       "    </tr>\n",
       "    <tr>\n",
       "      <th>27500</th>\n",
       "      <td>27501</td>\n",
       "      <td>1.267303e+18</td>\n",
       "      <td>1.267303e+18</td>\n",
       "      <td>2020-06-01</td>\n",
       "      <td>06:53:04</td>\n",
       "      <td>2.224274e+08</td>\n",
       "      <td>our beautiful kenyanationalanthem sung by more...</td>\n",
       "      <td>{\"screen_name\": \"statehousekenya\", \"name\": \"st...</td>\n",
       "      <td>kenyanationalanthem choralmusic</td>\n",
       "    </tr>\n",
       "    <tr>\n",
       "      <th>27501</th>\n",
       "      <td>27502</td>\n",
       "      <td>1.267295e+18</td>\n",
       "      <td>1.267295e+18</td>\n",
       "      <td>2020-06-01</td>\n",
       "      <td>06:20:39</td>\n",
       "      <td>5.971840e+08</td>\n",
       "      <td>times are tough though  but some are really tr...</td>\n",
       "      <td>NaN</td>\n",
       "      <td>ikokazike</td>\n",
       "    </tr>\n",
       "    <tr>\n",
       "      <th>27502</th>\n",
       "      <td>27503</td>\n",
       "      <td>1.267293e+18</td>\n",
       "      <td>1.267291e+18</td>\n",
       "      <td>2020-06-01</td>\n",
       "      <td>06:14:31</td>\n",
       "      <td>3.508761e+08</td>\n",
       "      <td>emejemoses davidkimmzz brigademacharia classic...</td>\n",
       "      <td>NaN</td>\n",
       "      <td>mainaandkingangi teamclassic fridaysexiestniec...</td>\n",
       "    </tr>\n",
       "    <tr>\n",
       "      <th>27503</th>\n",
       "      <td>27504</td>\n",
       "      <td>1.267293e+18</td>\n",
       "      <td>1.267293e+18</td>\n",
       "      <td>2020-06-01</td>\n",
       "      <td>06:12:02</td>\n",
       "      <td>1.233154e+18</td>\n",
       "      <td>rt  thebossdesigns1  any gfx in need of a fami...</td>\n",
       "      <td>NaN</td>\n",
       "      <td>gfx gfxneeded gfxwanted gfxartist 2k20 2kgfx g...</td>\n",
       "    </tr>\n",
       "  </tbody>\n",
       "</table>\n",
       "<p>27504 rows × 9 columns</p>\n",
       "</div>"
      ],
      "text/plain": [
       "       Unnamed: 0  eng_tweets$id  eng_tweets$conversation_id eng_tweets$date  \\\n",
       "0               1   1.399492e+18                1.399232e+18      2021-06-01   \n",
       "1               2   1.399487e+18                1.399487e+18      2021-06-01   \n",
       "2               3   1.399486e+18                1.399486e+18      2021-06-01   \n",
       "3               4   1.399486e+18                1.399441e+18      2021-06-01   \n",
       "4               5   1.399476e+18                1.399476e+18      2021-06-01   \n",
       "...           ...            ...                         ...             ...   \n",
       "27499       27500   1.267312e+18                1.267312e+18      2020-06-01   \n",
       "27500       27501   1.267303e+18                1.267303e+18      2020-06-01   \n",
       "27501       27502   1.267295e+18                1.267295e+18      2020-06-01   \n",
       "27502       27503   1.267293e+18                1.267291e+18      2020-06-01   \n",
       "27503       27504   1.267293e+18                1.267293e+18      2020-06-01   \n",
       "\n",
       "      eng_tweets$time  eng_tweets$user_id  \\\n",
       "0            01:25:29        1.184135e+18   \n",
       "1            01:04:13        1.827231e+09   \n",
       "2            01:01:22        2.576029e+08   \n",
       "3            00:58:59        9.490123e+17   \n",
       "4            00:21:50        9.833605e+07   \n",
       "...               ...                 ...   \n",
       "27499        07:26:36        7.188911e+17   \n",
       "27500        06:53:04        2.224274e+08   \n",
       "27501        06:20:39        5.971840e+08   \n",
       "27502        06:14:31        3.508761e+08   \n",
       "27503        06:12:02        1.233154e+18   \n",
       "\n",
       "                                        eng_tweets$tweet  \\\n",
       "0      smackasoreass tobibwy e teezey1286 yes  how co...   \n",
       "1      im sure this was a demo video  kot kenya afric...   \n",
       "2      the generation that buys phones that cost 3 ti...   \n",
       "3      manunitedzone  made in the streets of mathare ...   \n",
       "4      madam gracekuriake we thank you for all the jo...   \n",
       "...                                                  ...   \n",
       "27499  at 57 years old   kenya is a typical african m...   \n",
       "27500  our beautiful kenyanationalanthem sung by more...   \n",
       "27501  times are tough though  but some are really tr...   \n",
       "27502  emejemoses davidkimmzz brigademacharia classic...   \n",
       "27503  rt  thebossdesigns1  any gfx in need of a fami...   \n",
       "\n",
       "                                     eng_tweets$mentions  \\\n",
       "0                                                    NaN   \n",
       "1                                                    NaN   \n",
       "2                                                    NaN   \n",
       "3      {\"screen_name\": \"lasetoabdaz\", \"name\": \"abdaz\"...   \n",
       "4      {\"screen_name\": \"gracekuriake\", \"name\": \"grace...   \n",
       "...                                                  ...   \n",
       "27499                                                NaN   \n",
       "27500  {\"screen_name\": \"statehousekenya\", \"name\": \"st...   \n",
       "27501                                                NaN   \n",
       "27502                                                NaN   \n",
       "27503                                                NaN   \n",
       "\n",
       "                                     eng_tweets$hashtags  \n",
       "0                                                    NaN  \n",
       "1                                   kenya africa ufisadi  \n",
       "2                                                    NaN  \n",
       "3                                                    NaN  \n",
       "4                                                    NaN  \n",
       "...                                                  ...  \n",
       "27499                                       madarakaday   \n",
       "27500                   kenyanationalanthem choralmusic   \n",
       "27501                                         ikokazike   \n",
       "27502  mainaandkingangi teamclassic fridaysexiestniec...  \n",
       "27503  gfx gfxneeded gfxwanted gfxartist 2k20 2kgfx g...  \n",
       "\n",
       "[27504 rows x 9 columns]"
      ]
     },
     "execution_count": 33,
     "metadata": {},
     "output_type": "execute_result"
    }
   ],
   "source": [
    "data = pd.read_csv('eng_model_data.csv')\n",
    "data"
   ]
  },
  {
   "cell_type": "code",
   "execution_count": 34,
   "id": "affecting-section",
   "metadata": {},
   "outputs": [
    {
     "name": "stdout",
     "output_type": "stream",
     "text": [
      "Unnamed: 0                      int64\n",
      "eng_tweets$id                 float64\n",
      "eng_tweets$conversation_id    float64\n",
      "eng_tweets$date                object\n",
      "eng_tweets$time                object\n",
      "eng_tweets$user_id            float64\n",
      "eng_tweets$tweet               object\n",
      "eng_tweets$mentions            object\n",
      "eng_tweets$hashtags            object\n",
      "dtype: object\n",
      "\n",
      " eng_tweets$id                       category\n",
      "eng_tweets$conversation_id          category\n",
      "eng_tweets$user_id                  category\n",
      "eng_tweets$tweet                      object\n",
      "timestamp                     datetime64[ns]\n",
      "dtype: object\n"
     ]
    }
   ],
   "source": [
    "model_data = data.copy()\n",
    "\n",
    "print(model_data.dtypes)\n",
    "\n",
    "model_data['eng_tweets$id'] = model_data['eng_tweets$id'].astype('category')\n",
    "model_data['eng_tweets$conversation_id'] = model_data['eng_tweets$conversation_id'].astype('category')\n",
    "model_data['eng_tweets$user_id'] = model_data['eng_tweets$user_id'].astype('category')\n",
    "model_data['timestamp'] = model_data['eng_tweets$date'] + ' ' + model_data['eng_tweets$time']\n",
    "model_data['timestamp'] = pd.to_datetime(model_data['timestamp'])\n",
    "model_data = model_data.drop(['Unnamed: 0', 'eng_tweets$date', 'eng_tweets$time',\n",
    "                              'eng_tweets$mentions', 'eng_tweets$hashtags'],1)\n",
    "\n",
    "print('\\n', model_data.dtypes)"
   ]
  },
  {
   "cell_type": "code",
   "execution_count": 35,
   "id": "opened-above",
   "metadata": {},
   "outputs": [
    {
     "data": {
      "text/html": [
       "<div>\n",
       "<style scoped>\n",
       "    .dataframe tbody tr th:only-of-type {\n",
       "        vertical-align: middle;\n",
       "    }\n",
       "\n",
       "    .dataframe tbody tr th {\n",
       "        vertical-align: top;\n",
       "    }\n",
       "\n",
       "    .dataframe thead th {\n",
       "        text-align: right;\n",
       "    }\n",
       "</style>\n",
       "<table border=\"1\" class=\"dataframe\">\n",
       "  <thead>\n",
       "    <tr style=\"text-align: right;\">\n",
       "      <th></th>\n",
       "      <th>tweet_id</th>\n",
       "      <th>conversation_id</th>\n",
       "      <th>user_id</th>\n",
       "      <th>tweet</th>\n",
       "      <th>timestamp</th>\n",
       "    </tr>\n",
       "  </thead>\n",
       "  <tbody>\n",
       "    <tr>\n",
       "      <th>0</th>\n",
       "      <td>1.399492e+18</td>\n",
       "      <td>1.399232e+18</td>\n",
       "      <td>1.184135e+18</td>\n",
       "      <td>smackasoreass tobibwy e teezey1286 yes  how co...</td>\n",
       "      <td>2021-06-01 01:25:29</td>\n",
       "    </tr>\n",
       "    <tr>\n",
       "      <th>1</th>\n",
       "      <td>1.399487e+18</td>\n",
       "      <td>1.399487e+18</td>\n",
       "      <td>1.827231e+09</td>\n",
       "      <td>im sure this was a demo video  kot kenya afric...</td>\n",
       "      <td>2021-06-01 01:04:13</td>\n",
       "    </tr>\n",
       "    <tr>\n",
       "      <th>2</th>\n",
       "      <td>1.399486e+18</td>\n",
       "      <td>1.399486e+18</td>\n",
       "      <td>2.576029e+08</td>\n",
       "      <td>the generation that buys phones that cost 3 ti...</td>\n",
       "      <td>2021-06-01 01:01:22</td>\n",
       "    </tr>\n",
       "    <tr>\n",
       "      <th>3</th>\n",
       "      <td>1.399486e+18</td>\n",
       "      <td>1.399441e+18</td>\n",
       "      <td>9.490123e+17</td>\n",
       "      <td>manunitedzone  made in the streets of mathare ...</td>\n",
       "      <td>2021-06-01 00:58:59</td>\n",
       "    </tr>\n",
       "    <tr>\n",
       "      <th>4</th>\n",
       "      <td>1.399476e+18</td>\n",
       "      <td>1.399476e+18</td>\n",
       "      <td>9.833605e+07</td>\n",
       "      <td>madam gracekuriake we thank you for all the jo...</td>\n",
       "      <td>2021-06-01 00:21:50</td>\n",
       "    </tr>\n",
       "    <tr>\n",
       "      <th>...</th>\n",
       "      <td>...</td>\n",
       "      <td>...</td>\n",
       "      <td>...</td>\n",
       "      <td>...</td>\n",
       "      <td>...</td>\n",
       "    </tr>\n",
       "    <tr>\n",
       "      <th>27499</th>\n",
       "      <td>1.267312e+18</td>\n",
       "      <td>1.267312e+18</td>\n",
       "      <td>7.188911e+17</td>\n",
       "      <td>at 57 years old   kenya is a typical african m...</td>\n",
       "      <td>2020-06-01 07:26:36</td>\n",
       "    </tr>\n",
       "    <tr>\n",
       "      <th>27500</th>\n",
       "      <td>1.267303e+18</td>\n",
       "      <td>1.267303e+18</td>\n",
       "      <td>2.224274e+08</td>\n",
       "      <td>our beautiful kenyanationalanthem sung by more...</td>\n",
       "      <td>2020-06-01 06:53:04</td>\n",
       "    </tr>\n",
       "    <tr>\n",
       "      <th>27501</th>\n",
       "      <td>1.267295e+18</td>\n",
       "      <td>1.267295e+18</td>\n",
       "      <td>5.971840e+08</td>\n",
       "      <td>times are tough though  but some are really tr...</td>\n",
       "      <td>2020-06-01 06:20:39</td>\n",
       "    </tr>\n",
       "    <tr>\n",
       "      <th>27502</th>\n",
       "      <td>1.267293e+18</td>\n",
       "      <td>1.267291e+18</td>\n",
       "      <td>3.508761e+08</td>\n",
       "      <td>emejemoses davidkimmzz brigademacharia classic...</td>\n",
       "      <td>2020-06-01 06:14:31</td>\n",
       "    </tr>\n",
       "    <tr>\n",
       "      <th>27503</th>\n",
       "      <td>1.267293e+18</td>\n",
       "      <td>1.267293e+18</td>\n",
       "      <td>1.233154e+18</td>\n",
       "      <td>rt  thebossdesigns1  any gfx in need of a fami...</td>\n",
       "      <td>2020-06-01 06:12:02</td>\n",
       "    </tr>\n",
       "  </tbody>\n",
       "</table>\n",
       "<p>27504 rows × 5 columns</p>\n",
       "</div>"
      ],
      "text/plain": [
       "           tweet_id conversation_id       user_id  \\\n",
       "0      1.399492e+18    1.399232e+18  1.184135e+18   \n",
       "1      1.399487e+18    1.399487e+18  1.827231e+09   \n",
       "2      1.399486e+18    1.399486e+18  2.576029e+08   \n",
       "3      1.399486e+18    1.399441e+18  9.490123e+17   \n",
       "4      1.399476e+18    1.399476e+18  9.833605e+07   \n",
       "...             ...             ...           ...   \n",
       "27499  1.267312e+18    1.267312e+18  7.188911e+17   \n",
       "27500  1.267303e+18    1.267303e+18  2.224274e+08   \n",
       "27501  1.267295e+18    1.267295e+18  5.971840e+08   \n",
       "27502  1.267293e+18    1.267291e+18  3.508761e+08   \n",
       "27503  1.267293e+18    1.267293e+18  1.233154e+18   \n",
       "\n",
       "                                                   tweet           timestamp  \n",
       "0      smackasoreass tobibwy e teezey1286 yes  how co... 2021-06-01 01:25:29  \n",
       "1      im sure this was a demo video  kot kenya afric... 2021-06-01 01:04:13  \n",
       "2      the generation that buys phones that cost 3 ti... 2021-06-01 01:01:22  \n",
       "3      manunitedzone  made in the streets of mathare ... 2021-06-01 00:58:59  \n",
       "4      madam gracekuriake we thank you for all the jo... 2021-06-01 00:21:50  \n",
       "...                                                  ...                 ...  \n",
       "27499  at 57 years old   kenya is a typical african m... 2020-06-01 07:26:36  \n",
       "27500  our beautiful kenyanationalanthem sung by more... 2020-06-01 06:53:04  \n",
       "27501  times are tough though  but some are really tr... 2020-06-01 06:20:39  \n",
       "27502  emejemoses davidkimmzz brigademacharia classic... 2020-06-01 06:14:31  \n",
       "27503  rt  thebossdesigns1  any gfx in need of a fami... 2020-06-01 06:12:02  \n",
       "\n",
       "[27504 rows x 5 columns]"
      ]
     },
     "execution_count": 35,
     "metadata": {},
     "output_type": "execute_result"
    }
   ],
   "source": [
    "model_data.columns = ['tweet_id', 'conversation_id', 'user_id', 'tweet', 'timestamp']\n",
    "model_data"
   ]
  },
  {
   "cell_type": "code",
   "execution_count": 36,
   "id": "pending-substitute",
   "metadata": {},
   "outputs": [
    {
     "data": {
      "text/html": [
       "<div>\n",
       "<style scoped>\n",
       "    .dataframe tbody tr th:only-of-type {\n",
       "        vertical-align: middle;\n",
       "    }\n",
       "\n",
       "    .dataframe tbody tr th {\n",
       "        vertical-align: top;\n",
       "    }\n",
       "\n",
       "    .dataframe thead th {\n",
       "        text-align: right;\n",
       "    }\n",
       "</style>\n",
       "<table border=\"1\" class=\"dataframe\">\n",
       "  <thead>\n",
       "    <tr style=\"text-align: right;\">\n",
       "      <th></th>\n",
       "      <th>tweet_id</th>\n",
       "      <th>conversation_id</th>\n",
       "      <th>user_id</th>\n",
       "      <th>tweet</th>\n",
       "      <th>timestamp</th>\n",
       "      <th>tagged_tweets</th>\n",
       "    </tr>\n",
       "  </thead>\n",
       "  <tbody>\n",
       "    <tr>\n",
       "      <th>0</th>\n",
       "      <td>1.399492e+18</td>\n",
       "      <td>1.399232e+18</td>\n",
       "      <td>1.184135e+18</td>\n",
       "      <td>smackasoreass tobibwy e teezey1286 yes  how co...</td>\n",
       "      <td>2021-06-01 01:25:29</td>\n",
       "      <td>([smackasoreass, tobibwy, e, teezey1286, yes, ...</td>\n",
       "    </tr>\n",
       "    <tr>\n",
       "      <th>1</th>\n",
       "      <td>1.399487e+18</td>\n",
       "      <td>1.399487e+18</td>\n",
       "      <td>1.827231e+09</td>\n",
       "      <td>im sure this was a demo video  kot kenya afric...</td>\n",
       "      <td>2021-06-01 01:04:13</td>\n",
       "      <td>([im, sure, this, was, a, demo, video, , kot, ...</td>\n",
       "    </tr>\n",
       "    <tr>\n",
       "      <th>2</th>\n",
       "      <td>1.399486e+18</td>\n",
       "      <td>1.399486e+18</td>\n",
       "      <td>2.576029e+08</td>\n",
       "      <td>the generation that buys phones that cost 3 ti...</td>\n",
       "      <td>2021-06-01 01:01:22</td>\n",
       "      <td>([the, generation, that, buys, phones, that, c...</td>\n",
       "    </tr>\n",
       "    <tr>\n",
       "      <th>3</th>\n",
       "      <td>1.399486e+18</td>\n",
       "      <td>1.399441e+18</td>\n",
       "      <td>9.490123e+17</td>\n",
       "      <td>manunitedzone  made in the streets of mathare ...</td>\n",
       "      <td>2021-06-01 00:58:59</td>\n",
       "      <td>([manunitedzone, , made, in, the, streets, of,...</td>\n",
       "    </tr>\n",
       "    <tr>\n",
       "      <th>4</th>\n",
       "      <td>1.399476e+18</td>\n",
       "      <td>1.399476e+18</td>\n",
       "      <td>9.833605e+07</td>\n",
       "      <td>madam gracekuriake we thank you for all the jo...</td>\n",
       "      <td>2021-06-01 00:21:50</td>\n",
       "      <td>([madam, gracekuriake, we, thank, you, for, al...</td>\n",
       "    </tr>\n",
       "    <tr>\n",
       "      <th>...</th>\n",
       "      <td>...</td>\n",
       "      <td>...</td>\n",
       "      <td>...</td>\n",
       "      <td>...</td>\n",
       "      <td>...</td>\n",
       "      <td>...</td>\n",
       "    </tr>\n",
       "    <tr>\n",
       "      <th>27499</th>\n",
       "      <td>1.267312e+18</td>\n",
       "      <td>1.267312e+18</td>\n",
       "      <td>7.188911e+17</td>\n",
       "      <td>at 57 years old   kenya is a typical african m...</td>\n",
       "      <td>2020-06-01 07:26:36</td>\n",
       "      <td>([at, 57, years, old, , , kenya, is, a, typica...</td>\n",
       "    </tr>\n",
       "    <tr>\n",
       "      <th>27500</th>\n",
       "      <td>1.267303e+18</td>\n",
       "      <td>1.267303e+18</td>\n",
       "      <td>2.224274e+08</td>\n",
       "      <td>our beautiful kenyanationalanthem sung by more...</td>\n",
       "      <td>2020-06-01 06:53:04</td>\n",
       "      <td>([our, beautiful, kenyanationalanthem, sung, b...</td>\n",
       "    </tr>\n",
       "    <tr>\n",
       "      <th>27501</th>\n",
       "      <td>1.267295e+18</td>\n",
       "      <td>1.267295e+18</td>\n",
       "      <td>5.971840e+08</td>\n",
       "      <td>times are tough though  but some are really tr...</td>\n",
       "      <td>2020-06-01 06:20:39</td>\n",
       "      <td>([times, are, tough, though, , but, some, are,...</td>\n",
       "    </tr>\n",
       "    <tr>\n",
       "      <th>27502</th>\n",
       "      <td>1.267293e+18</td>\n",
       "      <td>1.267291e+18</td>\n",
       "      <td>3.508761e+08</td>\n",
       "      <td>emejemoses davidkimmzz brigademacharia classic...</td>\n",
       "      <td>2020-06-01 06:14:31</td>\n",
       "      <td>([emejemoses, davidkimmzz, brigademacharia, cl...</td>\n",
       "    </tr>\n",
       "    <tr>\n",
       "      <th>27503</th>\n",
       "      <td>1.267293e+18</td>\n",
       "      <td>1.267293e+18</td>\n",
       "      <td>1.233154e+18</td>\n",
       "      <td>rt  thebossdesigns1  any gfx in need of a fami...</td>\n",
       "      <td>2020-06-01 06:12:02</td>\n",
       "      <td>([rt, , thebossdesigns1, , any, gfx, in, need,...</td>\n",
       "    </tr>\n",
       "  </tbody>\n",
       "</table>\n",
       "<p>27504 rows × 6 columns</p>\n",
       "</div>"
      ],
      "text/plain": [
       "           tweet_id conversation_id       user_id  \\\n",
       "0      1.399492e+18    1.399232e+18  1.184135e+18   \n",
       "1      1.399487e+18    1.399487e+18  1.827231e+09   \n",
       "2      1.399486e+18    1.399486e+18  2.576029e+08   \n",
       "3      1.399486e+18    1.399441e+18  9.490123e+17   \n",
       "4      1.399476e+18    1.399476e+18  9.833605e+07   \n",
       "...             ...             ...           ...   \n",
       "27499  1.267312e+18    1.267312e+18  7.188911e+17   \n",
       "27500  1.267303e+18    1.267303e+18  2.224274e+08   \n",
       "27501  1.267295e+18    1.267295e+18  5.971840e+08   \n",
       "27502  1.267293e+18    1.267291e+18  3.508761e+08   \n",
       "27503  1.267293e+18    1.267293e+18  1.233154e+18   \n",
       "\n",
       "                                                   tweet           timestamp  \\\n",
       "0      smackasoreass tobibwy e teezey1286 yes  how co... 2021-06-01 01:25:29   \n",
       "1      im sure this was a demo video  kot kenya afric... 2021-06-01 01:04:13   \n",
       "2      the generation that buys phones that cost 3 ti... 2021-06-01 01:01:22   \n",
       "3      manunitedzone  made in the streets of mathare ... 2021-06-01 00:58:59   \n",
       "4      madam gracekuriake we thank you for all the jo... 2021-06-01 00:21:50   \n",
       "...                                                  ...                 ...   \n",
       "27499  at 57 years old   kenya is a typical african m... 2020-06-01 07:26:36   \n",
       "27500  our beautiful kenyanationalanthem sung by more... 2020-06-01 06:53:04   \n",
       "27501  times are tough though  but some are really tr... 2020-06-01 06:20:39   \n",
       "27502  emejemoses davidkimmzz brigademacharia classic... 2020-06-01 06:14:31   \n",
       "27503  rt  thebossdesigns1  any gfx in need of a fami... 2020-06-01 06:12:02   \n",
       "\n",
       "                                           tagged_tweets  \n",
       "0      ([smackasoreass, tobibwy, e, teezey1286, yes, ...  \n",
       "1      ([im, sure, this, was, a, demo, video, , kot, ...  \n",
       "2      ([the, generation, that, buys, phones, that, c...  \n",
       "3      ([manunitedzone, , made, in, the, streets, of,...  \n",
       "4      ([madam, gracekuriake, we, thank, you, for, al...  \n",
       "...                                                  ...  \n",
       "27499  ([at, 57, years, old, , , kenya, is, a, typica...  \n",
       "27500  ([our, beautiful, kenyanationalanthem, sung, b...  \n",
       "27501  ([times, are, tough, though, , but, some, are,...  \n",
       "27502  ([emejemoses, davidkimmzz, brigademacharia, cl...  \n",
       "27503  ([rt, , thebossdesigns1, , any, gfx, in, need,...  \n",
       "\n",
       "[27504 rows x 6 columns]"
      ]
     },
     "execution_count": 36,
     "metadata": {},
     "output_type": "execute_result"
    }
   ],
   "source": [
    "#!pip install gensim\n",
    "#!pip install python-Levenshtein\n",
    "from gensim.models.doc2vec import Doc2Vec, TaggedDocument #tokenize and tag each tweet\n",
    "model_data['tagged_tweets'] = [TaggedDocument(doc.split(' '), [i]) \n",
    "             for i, doc in enumerate(model_data.tweet)]#display the tagged docs\n",
    "\n",
    "#model_data = model_data.drop(['tweet'],1) #drop the raw tweets\n",
    "model_data"
   ]
  },
  {
   "cell_type": "markdown",
   "id": "handy-killer",
   "metadata": {},
   "source": [
    "Based on the data above, unsupervised machine learning will be applied to:\n",
    "* tranform tweets into numerical vectors (learn more [here](https://cs.stanford.edu/~quocle/paragraph_vector.pdf)) using [Doc2Vec](https://towardsdatascience.com/how-to-vectorize-text-in-dataframes-for-nlp-tasks-3-simple-techniques-82925a5600db)\n",
    "* use k-means to [classify the tweets into either positive or negative sentiment](https://towardsdatascience.com/unsupervised-sentiment-analysis-a38bf1906483), constructing a label in the process.\n",
    "* use Catboost to [predict the constructed label](https://towardsdatascience.com/unconventional-sentiment-analysis-bert-vs-catboost-90645f2437a9)"
   ]
  },
  {
   "cell_type": "code",
   "execution_count": 37,
   "id": "intellectual-halloween",
   "metadata": {},
   "outputs": [
    {
     "data": {
      "text/plain": [
       "array([-0.19837861, -0.3565036 ,  0.26370138, -0.02602572, -0.21140994,\n",
       "       -0.22414517,  0.3106903 ,  0.24006438, -0.00405892, -0.04571257,\n",
       "        0.1676097 ,  0.17623083, -0.02981645, -0.09648819, -0.06874172,\n",
       "       -0.04962047, -0.2833996 ,  0.27241945, -0.12514484,  0.17345844,\n",
       "        0.27709877,  0.4438779 ,  0.3183309 ,  0.14826423,  0.21335025,\n",
       "       -0.09052568, -0.21272041,  0.33124137, -0.11847851, -0.2523893 ,\n",
       "       -0.02749789, -0.3474405 ], dtype=float32)"
      ]
     },
     "execution_count": 37,
     "metadata": {},
     "output_type": "execute_result"
    }
   ],
   "source": [
    "# transform the vectors into numerical vectors\n",
    "model = Doc2Vec(dm=1, vector_size=32, min_count=1, workers=8, epochs = 20) #instantiate model\n",
    "model.build_vocab(model_data['tagged_tweets']) #build vocab\n",
    "model.train(model_data['tagged_tweets'], total_examples=model.corpus_count,\n",
    "            epochs=model.epochs) # train the vectorization model\n",
    "\n",
    "#generate vectors\n",
    "tweet_vec = [model.infer_vector((model_data['tweet'][i].split(' '))) \n",
    "            for i in range(0,len(model_data['tweet']))]\n",
    "tweet_vec[0]"
   ]
  },
  {
   "cell_type": "code",
   "execution_count": 38,
   "id": "marine-password",
   "metadata": {},
   "outputs": [
    {
     "data": {
      "text/html": [
       "<div>\n",
       "<style scoped>\n",
       "    .dataframe tbody tr th:only-of-type {\n",
       "        vertical-align: middle;\n",
       "    }\n",
       "\n",
       "    .dataframe tbody tr th {\n",
       "        vertical-align: top;\n",
       "    }\n",
       "\n",
       "    .dataframe thead th {\n",
       "        text-align: right;\n",
       "    }\n",
       "</style>\n",
       "<table border=\"1\" class=\"dataframe\">\n",
       "  <thead>\n",
       "    <tr style=\"text-align: right;\">\n",
       "      <th></th>\n",
       "      <th>tweet_id</th>\n",
       "      <th>conversation_id</th>\n",
       "      <th>user_id</th>\n",
       "      <th>tweet</th>\n",
       "      <th>timestamp</th>\n",
       "      <th>tagged_tweets</th>\n",
       "      <th>tweet_vector</th>\n",
       "    </tr>\n",
       "  </thead>\n",
       "  <tbody>\n",
       "    <tr>\n",
       "      <th>0</th>\n",
       "      <td>1.399492e+18</td>\n",
       "      <td>1.399232e+18</td>\n",
       "      <td>1.184135e+18</td>\n",
       "      <td>smackasoreass tobibwy e teezey1286 yes  how co...</td>\n",
       "      <td>2021-06-01 01:25:29</td>\n",
       "      <td>([smackasoreass, tobibwy, e, teezey1286, yes, ...</td>\n",
       "      <td>[-0.19837860763072968, -0.35650360584259033, 0...</td>\n",
       "    </tr>\n",
       "    <tr>\n",
       "      <th>1</th>\n",
       "      <td>1.399487e+18</td>\n",
       "      <td>1.399487e+18</td>\n",
       "      <td>1.827231e+09</td>\n",
       "      <td>im sure this was a demo video  kot kenya afric...</td>\n",
       "      <td>2021-06-01 01:04:13</td>\n",
       "      <td>([im, sure, this, was, a, demo, video, , kot, ...</td>\n",
       "      <td>[0.13729046285152435, -0.09219472110271454, 0....</td>\n",
       "    </tr>\n",
       "    <tr>\n",
       "      <th>2</th>\n",
       "      <td>1.399486e+18</td>\n",
       "      <td>1.399486e+18</td>\n",
       "      <td>2.576029e+08</td>\n",
       "      <td>the generation that buys phones that cost 3 ti...</td>\n",
       "      <td>2021-06-01 01:01:22</td>\n",
       "      <td>([the, generation, that, buys, phones, that, c...</td>\n",
       "      <td>[0.15569284558296204, -0.04930401220917702, -0...</td>\n",
       "    </tr>\n",
       "    <tr>\n",
       "      <th>3</th>\n",
       "      <td>1.399486e+18</td>\n",
       "      <td>1.399441e+18</td>\n",
       "      <td>9.490123e+17</td>\n",
       "      <td>manunitedzone  made in the streets of mathare ...</td>\n",
       "      <td>2021-06-01 00:58:59</td>\n",
       "      <td>([manunitedzone, , made, in, the, streets, of,...</td>\n",
       "      <td>[-0.1855618953704834, -0.19606958329677582, 0....</td>\n",
       "    </tr>\n",
       "    <tr>\n",
       "      <th>4</th>\n",
       "      <td>1.399476e+18</td>\n",
       "      <td>1.399476e+18</td>\n",
       "      <td>9.833605e+07</td>\n",
       "      <td>madam gracekuriake we thank you for all the jo...</td>\n",
       "      <td>2021-06-01 00:21:50</td>\n",
       "      <td>([madam, gracekuriake, we, thank, you, for, al...</td>\n",
       "      <td>[-0.4078052043914795, -0.14977413415908813, 0....</td>\n",
       "    </tr>\n",
       "    <tr>\n",
       "      <th>...</th>\n",
       "      <td>...</td>\n",
       "      <td>...</td>\n",
       "      <td>...</td>\n",
       "      <td>...</td>\n",
       "      <td>...</td>\n",
       "      <td>...</td>\n",
       "      <td>...</td>\n",
       "    </tr>\n",
       "    <tr>\n",
       "      <th>27499</th>\n",
       "      <td>1.267312e+18</td>\n",
       "      <td>1.267312e+18</td>\n",
       "      <td>7.188911e+17</td>\n",
       "      <td>at 57 years old   kenya is a typical african m...</td>\n",
       "      <td>2020-06-01 07:26:36</td>\n",
       "      <td>([at, 57, years, old, , , kenya, is, a, typica...</td>\n",
       "      <td>[0.009117077104747295, -0.5418844819068909, -0...</td>\n",
       "    </tr>\n",
       "    <tr>\n",
       "      <th>27500</th>\n",
       "      <td>1.267303e+18</td>\n",
       "      <td>1.267303e+18</td>\n",
       "      <td>2.224274e+08</td>\n",
       "      <td>our beautiful kenyanationalanthem sung by more...</td>\n",
       "      <td>2020-06-01 06:53:04</td>\n",
       "      <td>([our, beautiful, kenyanationalanthem, sung, b...</td>\n",
       "      <td>[0.2630535066127777, -0.42036959528923035, -0....</td>\n",
       "    </tr>\n",
       "    <tr>\n",
       "      <th>27501</th>\n",
       "      <td>1.267295e+18</td>\n",
       "      <td>1.267295e+18</td>\n",
       "      <td>5.971840e+08</td>\n",
       "      <td>times are tough though  but some are really tr...</td>\n",
       "      <td>2020-06-01 06:20:39</td>\n",
       "      <td>([times, are, tough, though, , but, some, are,...</td>\n",
       "      <td>[-0.06656447052955627, 0.03351464867591858, 0....</td>\n",
       "    </tr>\n",
       "    <tr>\n",
       "      <th>27502</th>\n",
       "      <td>1.267293e+18</td>\n",
       "      <td>1.267291e+18</td>\n",
       "      <td>3.508761e+08</td>\n",
       "      <td>emejemoses davidkimmzz brigademacharia classic...</td>\n",
       "      <td>2020-06-01 06:14:31</td>\n",
       "      <td>([emejemoses, davidkimmzz, brigademacharia, cl...</td>\n",
       "      <td>[-0.15869782865047455, 0.09075659513473511, -0...</td>\n",
       "    </tr>\n",
       "    <tr>\n",
       "      <th>27503</th>\n",
       "      <td>1.267293e+18</td>\n",
       "      <td>1.267293e+18</td>\n",
       "      <td>1.233154e+18</td>\n",
       "      <td>rt  thebossdesigns1  any gfx in need of a fami...</td>\n",
       "      <td>2020-06-01 06:12:02</td>\n",
       "      <td>([rt, , thebossdesigns1, , any, gfx, in, need,...</td>\n",
       "      <td>[0.22518682479858398, -0.13524745404720306, 0....</td>\n",
       "    </tr>\n",
       "  </tbody>\n",
       "</table>\n",
       "<p>27504 rows × 7 columns</p>\n",
       "</div>"
      ],
      "text/plain": [
       "           tweet_id conversation_id       user_id  \\\n",
       "0      1.399492e+18    1.399232e+18  1.184135e+18   \n",
       "1      1.399487e+18    1.399487e+18  1.827231e+09   \n",
       "2      1.399486e+18    1.399486e+18  2.576029e+08   \n",
       "3      1.399486e+18    1.399441e+18  9.490123e+17   \n",
       "4      1.399476e+18    1.399476e+18  9.833605e+07   \n",
       "...             ...             ...           ...   \n",
       "27499  1.267312e+18    1.267312e+18  7.188911e+17   \n",
       "27500  1.267303e+18    1.267303e+18  2.224274e+08   \n",
       "27501  1.267295e+18    1.267295e+18  5.971840e+08   \n",
       "27502  1.267293e+18    1.267291e+18  3.508761e+08   \n",
       "27503  1.267293e+18    1.267293e+18  1.233154e+18   \n",
       "\n",
       "                                                   tweet           timestamp  \\\n",
       "0      smackasoreass tobibwy e teezey1286 yes  how co... 2021-06-01 01:25:29   \n",
       "1      im sure this was a demo video  kot kenya afric... 2021-06-01 01:04:13   \n",
       "2      the generation that buys phones that cost 3 ti... 2021-06-01 01:01:22   \n",
       "3      manunitedzone  made in the streets of mathare ... 2021-06-01 00:58:59   \n",
       "4      madam gracekuriake we thank you for all the jo... 2021-06-01 00:21:50   \n",
       "...                                                  ...                 ...   \n",
       "27499  at 57 years old   kenya is a typical african m... 2020-06-01 07:26:36   \n",
       "27500  our beautiful kenyanationalanthem sung by more... 2020-06-01 06:53:04   \n",
       "27501  times are tough though  but some are really tr... 2020-06-01 06:20:39   \n",
       "27502  emejemoses davidkimmzz brigademacharia classic... 2020-06-01 06:14:31   \n",
       "27503  rt  thebossdesigns1  any gfx in need of a fami... 2020-06-01 06:12:02   \n",
       "\n",
       "                                           tagged_tweets  \\\n",
       "0      ([smackasoreass, tobibwy, e, teezey1286, yes, ...   \n",
       "1      ([im, sure, this, was, a, demo, video, , kot, ...   \n",
       "2      ([the, generation, that, buys, phones, that, c...   \n",
       "3      ([manunitedzone, , made, in, the, streets, of,...   \n",
       "4      ([madam, gracekuriake, we, thank, you, for, al...   \n",
       "...                                                  ...   \n",
       "27499  ([at, 57, years, old, , , kenya, is, a, typica...   \n",
       "27500  ([our, beautiful, kenyanationalanthem, sung, b...   \n",
       "27501  ([times, are, tough, though, , but, some, are,...   \n",
       "27502  ([emejemoses, davidkimmzz, brigademacharia, cl...   \n",
       "27503  ([rt, , thebossdesigns1, , any, gfx, in, need,...   \n",
       "\n",
       "                                            tweet_vector  \n",
       "0      [-0.19837860763072968, -0.35650360584259033, 0...  \n",
       "1      [0.13729046285152435, -0.09219472110271454, 0....  \n",
       "2      [0.15569284558296204, -0.04930401220917702, -0...  \n",
       "3      [-0.1855618953704834, -0.19606958329677582, 0....  \n",
       "4      [-0.4078052043914795, -0.14977413415908813, 0....  \n",
       "...                                                  ...  \n",
       "27499  [0.009117077104747295, -0.5418844819068909, -0...  \n",
       "27500  [0.2630535066127777, -0.42036959528923035, -0....  \n",
       "27501  [-0.06656447052955627, 0.03351464867591858, 0....  \n",
       "27502  [-0.15869782865047455, 0.09075659513473511, -0...  \n",
       "27503  [0.22518682479858398, -0.13524745404720306, 0....  \n",
       "\n",
       "[27504 rows x 7 columns]"
      ]
     },
     "execution_count": 38,
     "metadata": {},
     "output_type": "execute_result"
    }
   ],
   "source": [
    "tweet_vector = np.array(tweet_vec).tolist() #Create a list of lists\n",
    "model_data['tweet_vector'] = tweet_vector #set list to dataframe column\n",
    "model_data"
   ]
  },
  {
   "cell_type": "code",
   "execution_count": 39,
   "id": "greater-feedback",
   "metadata": {},
   "outputs": [
    {
     "data": {
      "text/html": [
       "<div>\n",
       "<style scoped>\n",
       "    .dataframe tbody tr th:only-of-type {\n",
       "        vertical-align: middle;\n",
       "    }\n",
       "\n",
       "    .dataframe tbody tr th {\n",
       "        vertical-align: top;\n",
       "    }\n",
       "\n",
       "    .dataframe thead th {\n",
       "        text-align: right;\n",
       "    }\n",
       "</style>\n",
       "<table border=\"1\" class=\"dataframe\">\n",
       "  <thead>\n",
       "    <tr style=\"text-align: right;\">\n",
       "      <th></th>\n",
       "      <th>tweet_id</th>\n",
       "      <th>conversation_id</th>\n",
       "      <th>user_id</th>\n",
       "      <th>tweet</th>\n",
       "      <th>timestamp</th>\n",
       "      <th>tagged_tweets</th>\n",
       "      <th>tweet_vector</th>\n",
       "      <th>label</th>\n",
       "    </tr>\n",
       "  </thead>\n",
       "  <tbody>\n",
       "    <tr>\n",
       "      <th>0</th>\n",
       "      <td>1.399492e+18</td>\n",
       "      <td>1.399232e+18</td>\n",
       "      <td>1.184135e+18</td>\n",
       "      <td>smackasoreass tobibwy e teezey1286 yes  how co...</td>\n",
       "      <td>2021-06-01 01:25:29</td>\n",
       "      <td>([smackasoreass, tobibwy, e, teezey1286, yes, ...</td>\n",
       "      <td>[-0.19837860763072968, -0.35650360584259033, 0...</td>\n",
       "      <td>0</td>\n",
       "    </tr>\n",
       "    <tr>\n",
       "      <th>1</th>\n",
       "      <td>1.399487e+18</td>\n",
       "      <td>1.399487e+18</td>\n",
       "      <td>1.827231e+09</td>\n",
       "      <td>im sure this was a demo video  kot kenya afric...</td>\n",
       "      <td>2021-06-01 01:04:13</td>\n",
       "      <td>([im, sure, this, was, a, demo, video, , kot, ...</td>\n",
       "      <td>[0.13729046285152435, -0.09219472110271454, 0....</td>\n",
       "      <td>1</td>\n",
       "    </tr>\n",
       "    <tr>\n",
       "      <th>2</th>\n",
       "      <td>1.399486e+18</td>\n",
       "      <td>1.399486e+18</td>\n",
       "      <td>2.576029e+08</td>\n",
       "      <td>the generation that buys phones that cost 3 ti...</td>\n",
       "      <td>2021-06-01 01:01:22</td>\n",
       "      <td>([the, generation, that, buys, phones, that, c...</td>\n",
       "      <td>[0.15569284558296204, -0.04930401220917702, -0...</td>\n",
       "      <td>0</td>\n",
       "    </tr>\n",
       "    <tr>\n",
       "      <th>3</th>\n",
       "      <td>1.399486e+18</td>\n",
       "      <td>1.399441e+18</td>\n",
       "      <td>9.490123e+17</td>\n",
       "      <td>manunitedzone  made in the streets of mathare ...</td>\n",
       "      <td>2021-06-01 00:58:59</td>\n",
       "      <td>([manunitedzone, , made, in, the, streets, of,...</td>\n",
       "      <td>[-0.1855618953704834, -0.19606958329677582, 0....</td>\n",
       "      <td>1</td>\n",
       "    </tr>\n",
       "    <tr>\n",
       "      <th>4</th>\n",
       "      <td>1.399476e+18</td>\n",
       "      <td>1.399476e+18</td>\n",
       "      <td>9.833605e+07</td>\n",
       "      <td>madam gracekuriake we thank you for all the jo...</td>\n",
       "      <td>2021-06-01 00:21:50</td>\n",
       "      <td>([madam, gracekuriake, we, thank, you, for, al...</td>\n",
       "      <td>[-0.4078052043914795, -0.14977413415908813, 0....</td>\n",
       "      <td>1</td>\n",
       "    </tr>\n",
       "    <tr>\n",
       "      <th>...</th>\n",
       "      <td>...</td>\n",
       "      <td>...</td>\n",
       "      <td>...</td>\n",
       "      <td>...</td>\n",
       "      <td>...</td>\n",
       "      <td>...</td>\n",
       "      <td>...</td>\n",
       "      <td>...</td>\n",
       "    </tr>\n",
       "    <tr>\n",
       "      <th>27499</th>\n",
       "      <td>1.267312e+18</td>\n",
       "      <td>1.267312e+18</td>\n",
       "      <td>7.188911e+17</td>\n",
       "      <td>at 57 years old   kenya is a typical african m...</td>\n",
       "      <td>2020-06-01 07:26:36</td>\n",
       "      <td>([at, 57, years, old, , , kenya, is, a, typica...</td>\n",
       "      <td>[0.009117077104747295, -0.5418844819068909, -0...</td>\n",
       "      <td>0</td>\n",
       "    </tr>\n",
       "    <tr>\n",
       "      <th>27500</th>\n",
       "      <td>1.267303e+18</td>\n",
       "      <td>1.267303e+18</td>\n",
       "      <td>2.224274e+08</td>\n",
       "      <td>our beautiful kenyanationalanthem sung by more...</td>\n",
       "      <td>2020-06-01 06:53:04</td>\n",
       "      <td>([our, beautiful, kenyanationalanthem, sung, b...</td>\n",
       "      <td>[0.2630535066127777, -0.42036959528923035, -0....</td>\n",
       "      <td>0</td>\n",
       "    </tr>\n",
       "    <tr>\n",
       "      <th>27501</th>\n",
       "      <td>1.267295e+18</td>\n",
       "      <td>1.267295e+18</td>\n",
       "      <td>5.971840e+08</td>\n",
       "      <td>times are tough though  but some are really tr...</td>\n",
       "      <td>2020-06-01 06:20:39</td>\n",
       "      <td>([times, are, tough, though, , but, some, are,...</td>\n",
       "      <td>[-0.06656447052955627, 0.03351464867591858, 0....</td>\n",
       "      <td>0</td>\n",
       "    </tr>\n",
       "    <tr>\n",
       "      <th>27502</th>\n",
       "      <td>1.267293e+18</td>\n",
       "      <td>1.267291e+18</td>\n",
       "      <td>3.508761e+08</td>\n",
       "      <td>emejemoses davidkimmzz brigademacharia classic...</td>\n",
       "      <td>2020-06-01 06:14:31</td>\n",
       "      <td>([emejemoses, davidkimmzz, brigademacharia, cl...</td>\n",
       "      <td>[-0.15869782865047455, 0.09075659513473511, -0...</td>\n",
       "      <td>1</td>\n",
       "    </tr>\n",
       "    <tr>\n",
       "      <th>27503</th>\n",
       "      <td>1.267293e+18</td>\n",
       "      <td>1.267293e+18</td>\n",
       "      <td>1.233154e+18</td>\n",
       "      <td>rt  thebossdesigns1  any gfx in need of a fami...</td>\n",
       "      <td>2020-06-01 06:12:02</td>\n",
       "      <td>([rt, , thebossdesigns1, , any, gfx, in, need,...</td>\n",
       "      <td>[0.22518682479858398, -0.13524745404720306, 0....</td>\n",
       "      <td>1</td>\n",
       "    </tr>\n",
       "  </tbody>\n",
       "</table>\n",
       "<p>27504 rows × 8 columns</p>\n",
       "</div>"
      ],
      "text/plain": [
       "           tweet_id conversation_id       user_id  \\\n",
       "0      1.399492e+18    1.399232e+18  1.184135e+18   \n",
       "1      1.399487e+18    1.399487e+18  1.827231e+09   \n",
       "2      1.399486e+18    1.399486e+18  2.576029e+08   \n",
       "3      1.399486e+18    1.399441e+18  9.490123e+17   \n",
       "4      1.399476e+18    1.399476e+18  9.833605e+07   \n",
       "...             ...             ...           ...   \n",
       "27499  1.267312e+18    1.267312e+18  7.188911e+17   \n",
       "27500  1.267303e+18    1.267303e+18  2.224274e+08   \n",
       "27501  1.267295e+18    1.267295e+18  5.971840e+08   \n",
       "27502  1.267293e+18    1.267291e+18  3.508761e+08   \n",
       "27503  1.267293e+18    1.267293e+18  1.233154e+18   \n",
       "\n",
       "                                                   tweet           timestamp  \\\n",
       "0      smackasoreass tobibwy e teezey1286 yes  how co... 2021-06-01 01:25:29   \n",
       "1      im sure this was a demo video  kot kenya afric... 2021-06-01 01:04:13   \n",
       "2      the generation that buys phones that cost 3 ti... 2021-06-01 01:01:22   \n",
       "3      manunitedzone  made in the streets of mathare ... 2021-06-01 00:58:59   \n",
       "4      madam gracekuriake we thank you for all the jo... 2021-06-01 00:21:50   \n",
       "...                                                  ...                 ...   \n",
       "27499  at 57 years old   kenya is a typical african m... 2020-06-01 07:26:36   \n",
       "27500  our beautiful kenyanationalanthem sung by more... 2020-06-01 06:53:04   \n",
       "27501  times are tough though  but some are really tr... 2020-06-01 06:20:39   \n",
       "27502  emejemoses davidkimmzz brigademacharia classic... 2020-06-01 06:14:31   \n",
       "27503  rt  thebossdesigns1  any gfx in need of a fami... 2020-06-01 06:12:02   \n",
       "\n",
       "                                           tagged_tweets  \\\n",
       "0      ([smackasoreass, tobibwy, e, teezey1286, yes, ...   \n",
       "1      ([im, sure, this, was, a, demo, video, , kot, ...   \n",
       "2      ([the, generation, that, buys, phones, that, c...   \n",
       "3      ([manunitedzone, , made, in, the, streets, of,...   \n",
       "4      ([madam, gracekuriake, we, thank, you, for, al...   \n",
       "...                                                  ...   \n",
       "27499  ([at, 57, years, old, , , kenya, is, a, typica...   \n",
       "27500  ([our, beautiful, kenyanationalanthem, sung, b...   \n",
       "27501  ([times, are, tough, though, , but, some, are,...   \n",
       "27502  ([emejemoses, davidkimmzz, brigademacharia, cl...   \n",
       "27503  ([rt, , thebossdesigns1, , any, gfx, in, need,...   \n",
       "\n",
       "                                            tweet_vector  label  \n",
       "0      [-0.19837860763072968, -0.35650360584259033, 0...      0  \n",
       "1      [0.13729046285152435, -0.09219472110271454, 0....      1  \n",
       "2      [0.15569284558296204, -0.04930401220917702, -0...      0  \n",
       "3      [-0.1855618953704834, -0.19606958329677582, 0....      1  \n",
       "4      [-0.4078052043914795, -0.14977413415908813, 0....      1  \n",
       "...                                                  ...    ...  \n",
       "27499  [0.009117077104747295, -0.5418844819068909, -0...      0  \n",
       "27500  [0.2630535066127777, -0.42036959528923035, -0....      0  \n",
       "27501  [-0.06656447052955627, 0.03351464867591858, 0....      0  \n",
       "27502  [-0.15869782865047455, 0.09075659513473511, -0...      1  \n",
       "27503  [0.22518682479858398, -0.13524745404720306, 0....      1  \n",
       "\n",
       "[27504 rows x 8 columns]"
      ]
     },
     "execution_count": 39,
     "metadata": {},
     "output_type": "execute_result"
    }
   ],
   "source": [
    "#!pip install sklearn\n",
    "from sklearn.cluster import KMeans\n",
    "\n",
    "kmeans = KMeans(n_clusters=2, random_state=0).fit(tweet_vec) # classify data into 2 pools based on document vectors\n",
    "model_data['label'] = pd.Series(kmeans.labels_)\n",
    "\n",
    "model_data"
   ]
  },
  {
   "cell_type": "code",
   "execution_count": 42,
   "id": "lesser-guitar",
   "metadata": {},
   "outputs": [
    {
     "name": "stdout",
     "output_type": "stream",
     "text": [
      "smackasoreass tobibwy e teezey1286 yes  how could you   kot \n",
      " \n",
      "\n",
      "the generation that buys phones that cost 3 times their parents monthly salary are surprised that their parents think that they are working somewhere  the parents are just telling them to keep working  kot \n",
      " \n",
      "\n",
      "i dont if you have that friend mwenye huwa mnachat na yeye ig  fb na watsapp at the same time na kwa hzo base zote mnaongea story different  kot \n",
      " \n",
      "\n",
      "  check out   taking online learning to a whole new level  kot ukinkenya usaideducation gpforeducation raiseyourhand diani carolinemutoko \n",
      " \n",
      "\n",
      "on spotlight to buy them sometime  first it was rusesabagina and now thebal is finished and so and so on         rwot kot uot  ssot    they will keep the media with domenant news until then       mali panafricanparliament africa  burundi \n",
      " \n",
      "\n",
      "furniture  never say not for me say this is what i need    go for it    the centre point parklands or whatsapp 0722516017  kot nairobi kenya africaday��� madarakaday brandi love business homeoffice ikokazike kotloyals kotsokoni kujijengake  procurement smes   \n",
      " \n",
      "\n",
      "looking for a web developer conversant in prestashop and creating custom prestashop modules   ikokazi ikokazike jobske kot jobseekersfeelingsmatters \n",
      " \n",
      "\n",
      "it is always very stressful facing financial problems as a business  but there is help and advice available to help you tackle them before it gets too much to handle  so seek professional advice as soon as possible  kot kenlantips finance moneytalk moneymondays   \n",
      " \n",
      "\n",
      "nsabiyumva  who on earth provided translation  god aba kot ntimubakira  yewe ga yee \n",
      " \n",
      "\n",
      "kot you like it  you fight for it  another thing i shared with govt  how to improve our roads  a system where a youth group or an individual goes to the people and get signatures for tarmacking the road  using the signatures  county govt gives permit \n",
      " \n",
      "\n",
      "10  on dividends and our lawless president owns one of the soon to be biggest banks  wouldnt be so optimistic my fren kenya kot kotloyals \n",
      " \n",
      "\n",
      "being human  what will the kisumu  luos  do when the 2 disagree  how shortsighted and gullible are kenyans  our security and peace depends on 2 former protagonists being friends  why not obey to the letter cok2010 then it would be immaterial who was president   kenya kot \n",
      " \n",
      "\n"
     ]
    }
   ],
   "source": [
    "# Tweets labeled 0:\n",
    "i=0\n",
    "for i in range(26):\n",
    "    if model_data['label'][i] == 0:\n",
    "        print(model_data.tweet[i], '\\n', '\\n')\n",
    "    i+=1"
   ]
  },
  {
   "cell_type": "code",
   "execution_count": 43,
   "id": "chinese-southwest",
   "metadata": {},
   "outputs": [
    {
     "name": "stdout",
     "output_type": "stream",
     "text": [
      "im sure this was a demo video  kot kenya africa ufisadi \n",
      " \n",
      "\n",
      "manunitedzone  made in the streets of mathare nairobi kenya   he was nicknamed kenyan messi pride of kenya  friends to lasetoabdaz babazubeyyr victorwanyama kot i insist the first kenyan to play for manchester united  youll land in trouble for misinforming the masses  \n",
      " \n",
      "\n",
      "madam gracekuriake we thank you for all the job updates that you give kot you are impacting lives    one job at a time  \n",
      " \n",
      "\n",
      "7 more followers to go kot \n",
      " \n",
      "\n",
      "thank you bravinyuri for always engaging kot on matters mentalhealthke   i hope one day moh kenya will see the need to facilitate  finance  these conversations to reach the maaaaaaaany kenyans who are not online to benefit from the useful information shared here  \n",
      " \n",
      "\n",
      "when you spend thousands of kshs to see queen of the jungle    then you spend thousands of kshs to see your queen on royale spring mattress  kot ikokazike keadrive kenyans parklands kotsokoni kot nairobi madarakaday2021 airbnb kenyan mattress madeinkenya madeinkenya   \n",
      " \n",
      "\n",
      " you are fire    think about it        ikokazi ikokazike jobske kot jobseekersfeelingsmatters   \n",
      " \n",
      "\n",
      "like and share    lovecats instacats meow man nature love cat catclothes catattire kot gato   \n",
      " \n",
      "\n",
      "saurabhmirgane ashoswai world leaders in rate of birth perhaps    insult my country again and ill be forced to recruit kot \n",
      " \n",
      "\n",
      "thanks kot and shopmduka for this far  the tv is with the right hands now   \n",
      " \n",
      "\n",
      "was management ever held accountable or is using taxpayer funds to compensate  those they wronged enough  kenya kot kotloyals nassemblyke \n",
      " \n",
      "\n",
      "someone should raise a banner in kisumu saying   remove curfew  we allow bbi  resettingkenya curfew covid19kenya kot \n",
      " \n",
      "\n",
      "in christ i find my rest  he held us all together this far and we are gratful  we dont take it for granted    for more information contact us at 0723995026   contact us  phone 0723995026 email homeoflove2017gmail com  dontkeepjustgive ikokazi ikokazike charity  kot   \n",
      " \n",
      "\n",
      "watch this case go nowhere unless they eat alone  kama inafikaa vigilante house it will go nowhere  npsc ke npsofficial ke kenyajudiciary lawsocietykenya kenya kot kotloyals \n",
      " \n",
      "\n"
     ]
    }
   ],
   "source": [
    "# Tweets labeled 1:\n",
    "i=0\n",
    "for i in range(26):\n",
    "    if model_data['label'][i] == 1:\n",
    "        print(model_data.tweet[i], '\\n', '\\n')\n",
    "    i+=1"
   ]
  },
  {
   "cell_type": "markdown",
   "id": "regional-notebook",
   "metadata": {},
   "source": [
    "The results above indicate that there is misuse of hashtags to push products and there is no clear positive sentiment or negative sentiment in any of the classes."
   ]
  }
 ],
 "metadata": {
  "kernelspec": {
   "display_name": "Python 3",
   "language": "python",
   "name": "python3"
  },
  "language_info": {
   "codemirror_mode": {
    "name": "ipython",
    "version": 3
   },
   "file_extension": ".py",
   "mimetype": "text/x-python",
   "name": "python",
   "nbconvert_exporter": "python",
   "pygments_lexer": "ipython3",
   "version": "3.9.0"
  }
 },
 "nbformat": 4,
 "nbformat_minor": 5
}
